{
  "nbformat": 4,
  "nbformat_minor": 0,
  "metadata": {
    "colab": {
      "provenance": [],
      "authorship_tag": "ABX9TyOARDLoT57OWxKuh2dvw8ZZ",
      "include_colab_link": true
    },
    "kernelspec": {
      "name": "python3",
      "display_name": "Python 3"
    },
    "language_info": {
      "name": "python"
    }
  },
  "cells": [
    {
      "cell_type": "markdown",
      "metadata": {
        "id": "view-in-github",
        "colab_type": "text"
      },
      "source": [
        "<a href=\"https://colab.research.google.com/github/dtd08/Empty/blob/main/2%ED%95%99%EA%B8%B0.ipynb\" target=\"_parent\"><img src=\"https://colab.research.google.com/assets/colab-badge.svg\" alt=\"Open In Colab\"/></a>"
      ]
    },
    {
      "cell_type": "code",
      "execution_count": null,
      "metadata": {
        "colab": {
          "base_uri": "https://localhost:8080/"
        },
        "id": "HiJvgv5V1TEh",
        "outputId": "b1195c15-910d-4556-875c-f0a991392a94"
      },
      "outputs": [
        {
          "output_type": "stream",
          "name": "stdout",
          "text": [
            "2 * 1 = 2\t3 * 1 = 3\t4 * 1 = 4\t5 * 1 = 5\t6 * 1 = 6\t7 * 1 = 7\t8 * 1 = 8\t9 * 1 = 9\t10 * 1 = 10\t11 * 1 = 11\t12 * 1 = 12\t13 * 1 = 13\t14 * 1 = 14\t15 * 1 = 15\t16 * 1 = 16\t17 * 1 = 17\t18 * 1 = 18\t19 * 1 = 19\t\n",
            "2 * 2 = 4\t3 * 2 = 6\t4 * 2 = 8\t5 * 2 = 10\t6 * 2 = 12\t7 * 2 = 14\t8 * 2 = 16\t9 * 2 = 18\t10 * 2 = 20\t11 * 2 = 22\t12 * 2 = 24\t13 * 2 = 26\t14 * 2 = 28\t15 * 2 = 30\t16 * 2 = 32\t17 * 2 = 34\t18 * 2 = 36\t19 * 2 = 38\t\n",
            "2 * 3 = 6\t3 * 3 = 9\t4 * 3 = 12\t5 * 3 = 15\t6 * 3 = 18\t7 * 3 = 21\t8 * 3 = 24\t9 * 3 = 27\t10 * 3 = 30\t11 * 3 = 33\t12 * 3 = 36\t13 * 3 = 39\t14 * 3 = 42\t15 * 3 = 45\t16 * 3 = 48\t17 * 3 = 51\t18 * 3 = 54\t19 * 3 = 57\t\n",
            "2 * 4 = 8\t3 * 4 = 12\t4 * 4 = 16\t5 * 4 = 20\t6 * 4 = 24\t7 * 4 = 28\t8 * 4 = 32\t9 * 4 = 36\t10 * 4 = 40\t11 * 4 = 44\t12 * 4 = 48\t13 * 4 = 52\t14 * 4 = 56\t15 * 4 = 60\t16 * 4 = 64\t17 * 4 = 68\t18 * 4 = 72\t19 * 4 = 76\t\n",
            "2 * 5 = 10\t3 * 5 = 15\t4 * 5 = 20\t5 * 5 = 25\t6 * 5 = 30\t7 * 5 = 35\t8 * 5 = 40\t9 * 5 = 45\t10 * 5 = 50\t11 * 5 = 55\t12 * 5 = 60\t13 * 5 = 65\t14 * 5 = 70\t15 * 5 = 75\t16 * 5 = 80\t17 * 5 = 85\t18 * 5 = 90\t19 * 5 = 95\t\n",
            "2 * 6 = 12\t3 * 6 = 18\t4 * 6 = 24\t5 * 6 = 30\t6 * 6 = 36\t7 * 6 = 42\t8 * 6 = 48\t9 * 6 = 54\t10 * 6 = 60\t11 * 6 = 66\t12 * 6 = 72\t13 * 6 = 78\t14 * 6 = 84\t15 * 6 = 90\t16 * 6 = 96\t17 * 6 = 102\t18 * 6 = 108\t19 * 6 = 114\t\n",
            "2 * 7 = 14\t3 * 7 = 21\t4 * 7 = 28\t5 * 7 = 35\t6 * 7 = 42\t7 * 7 = 49\t8 * 7 = 56\t9 * 7 = 63\t10 * 7 = 70\t11 * 7 = 77\t12 * 7 = 84\t13 * 7 = 91\t14 * 7 = 98\t15 * 7 = 105\t16 * 7 = 112\t17 * 7 = 119\t18 * 7 = 126\t19 * 7 = 133\t\n",
            "2 * 8 = 16\t3 * 8 = 24\t4 * 8 = 32\t5 * 8 = 40\t6 * 8 = 48\t7 * 8 = 56\t8 * 8 = 64\t9 * 8 = 72\t10 * 8 = 80\t11 * 8 = 88\t12 * 8 = 96\t13 * 8 = 104\t14 * 8 = 112\t15 * 8 = 120\t16 * 8 = 128\t17 * 8 = 136\t18 * 8 = 144\t19 * 8 = 152\t\n",
            "2 * 9 = 18\t3 * 9 = 27\t4 * 9 = 36\t5 * 9 = 45\t6 * 9 = 54\t7 * 9 = 63\t8 * 9 = 72\t9 * 9 = 81\t10 * 9 = 90\t11 * 9 = 99\t12 * 9 = 108\t13 * 9 = 117\t14 * 9 = 126\t15 * 9 = 135\t16 * 9 = 144\t17 * 9 = 153\t18 * 9 = 162\t19 * 9 = 171\t\n",
            "2 * 10 = 20\t3 * 10 = 30\t4 * 10 = 40\t5 * 10 = 50\t6 * 10 = 60\t7 * 10 = 70\t8 * 10 = 80\t9 * 10 = 90\t10 * 10 = 100\t11 * 10 = 110\t12 * 10 = 120\t13 * 10 = 130\t14 * 10 = 140\t15 * 10 = 150\t16 * 10 = 160\t17 * 10 = 170\t18 * 10 = 180\t19 * 10 = 190\t\n",
            "2 * 11 = 22\t3 * 11 = 33\t4 * 11 = 44\t5 * 11 = 55\t6 * 11 = 66\t7 * 11 = 77\t8 * 11 = 88\t9 * 11 = 99\t10 * 11 = 110\t11 * 11 = 121\t12 * 11 = 132\t13 * 11 = 143\t14 * 11 = 154\t15 * 11 = 165\t16 * 11 = 176\t17 * 11 = 187\t18 * 11 = 198\t19 * 11 = 209\t\n",
            "2 * 12 = 24\t3 * 12 = 36\t4 * 12 = 48\t5 * 12 = 60\t6 * 12 = 72\t7 * 12 = 84\t8 * 12 = 96\t9 * 12 = 108\t10 * 12 = 120\t11 * 12 = 132\t12 * 12 = 144\t13 * 12 = 156\t14 * 12 = 168\t15 * 12 = 180\t16 * 12 = 192\t17 * 12 = 204\t18 * 12 = 216\t19 * 12 = 228\t\n",
            "2 * 13 = 26\t3 * 13 = 39\t4 * 13 = 52\t5 * 13 = 65\t6 * 13 = 78\t7 * 13 = 91\t8 * 13 = 104\t9 * 13 = 117\t10 * 13 = 130\t11 * 13 = 143\t12 * 13 = 156\t13 * 13 = 169\t14 * 13 = 182\t15 * 13 = 195\t16 * 13 = 208\t17 * 13 = 221\t18 * 13 = 234\t19 * 13 = 247\t\n",
            "2 * 14 = 28\t3 * 14 = 42\t4 * 14 = 56\t5 * 14 = 70\t6 * 14 = 84\t7 * 14 = 98\t8 * 14 = 112\t9 * 14 = 126\t10 * 14 = 140\t11 * 14 = 154\t12 * 14 = 168\t13 * 14 = 182\t14 * 14 = 196\t15 * 14 = 210\t16 * 14 = 224\t17 * 14 = 238\t18 * 14 = 252\t19 * 14 = 266\t\n",
            "2 * 15 = 30\t3 * 15 = 45\t4 * 15 = 60\t5 * 15 = 75\t6 * 15 = 90\t7 * 15 = 105\t8 * 15 = 120\t9 * 15 = 135\t10 * 15 = 150\t11 * 15 = 165\t12 * 15 = 180\t13 * 15 = 195\t14 * 15 = 210\t15 * 15 = 225\t16 * 15 = 240\t17 * 15 = 255\t18 * 15 = 270\t19 * 15 = 285\t\n",
            "2 * 16 = 32\t3 * 16 = 48\t4 * 16 = 64\t5 * 16 = 80\t6 * 16 = 96\t7 * 16 = 112\t8 * 16 = 128\t9 * 16 = 144\t10 * 16 = 160\t11 * 16 = 176\t12 * 16 = 192\t13 * 16 = 208\t14 * 16 = 224\t15 * 16 = 240\t16 * 16 = 256\t17 * 16 = 272\t18 * 16 = 288\t19 * 16 = 304\t\n",
            "2 * 17 = 34\t3 * 17 = 51\t4 * 17 = 68\t5 * 17 = 85\t6 * 17 = 102\t7 * 17 = 119\t8 * 17 = 136\t9 * 17 = 153\t10 * 17 = 170\t11 * 17 = 187\t12 * 17 = 204\t13 * 17 = 221\t14 * 17 = 238\t15 * 17 = 255\t16 * 17 = 272\t17 * 17 = 289\t18 * 17 = 306\t19 * 17 = 323\t\n",
            "2 * 18 = 36\t3 * 18 = 54\t4 * 18 = 72\t5 * 18 = 90\t6 * 18 = 108\t7 * 18 = 126\t8 * 18 = 144\t9 * 18 = 162\t10 * 18 = 180\t11 * 18 = 198\t12 * 18 = 216\t13 * 18 = 234\t14 * 18 = 252\t15 * 18 = 270\t16 * 18 = 288\t17 * 18 = 306\t18 * 18 = 324\t19 * 18 = 342\t\n",
            "2 * 19 = 38\t3 * 19 = 57\t4 * 19 = 76\t5 * 19 = 95\t6 * 19 = 114\t7 * 19 = 133\t8 * 19 = 152\t9 * 19 = 171\t10 * 19 = 190\t11 * 19 = 209\t12 * 19 = 228\t13 * 19 = 247\t14 * 19 = 266\t15 * 19 = 285\t16 * 19 = 304\t17 * 19 = 323\t18 * 19 = 342\t19 * 19 = 361\t\n",
            "> 5\n",
            "5 * 1 = 5\n",
            "5 * 2 = 10\n",
            "5 * 3 = 15\n",
            "5 * 4 = 20\n",
            "5 * 5 = 25\n",
            "5 * 6 = 30\n",
            "5 * 7 = 35\n",
            "5 * 8 = 40\n",
            "5 * 9 = 45\n",
            "> 5\n",
            "4 * 1 = 4\n",
            "4 * 2 = 8\n",
            "4 * 3 = 12\n",
            "4 * 4 = 16\n",
            "4 * 5 = 20\n",
            "4 * 6 = 24\n",
            "4 * 7 = 28\n",
            "4 * 8 = 32\n",
            "4 * 9 = 36\n",
            "\t\n",
            "5 * 1 = 5\n",
            "5 * 2 = 10\n",
            "5 * 3 = 15\n",
            "5 * 4 = 20\n",
            "5 * 5 = 25\n",
            "5 * 6 = 30\n",
            "5 * 7 = 35\n",
            "5 * 8 = 40\n",
            "5 * 9 = 45\n",
            "\t\n",
            "6 * 1 = 6\n",
            "6 * 2 = 12\n",
            "6 * 3 = 18\n",
            "6 * 4 = 24\n",
            "6 * 5 = 30\n",
            "6 * 6 = 36\n",
            "6 * 7 = 42\n",
            "6 * 8 = 48\n",
            "6 * 9 = 54\n",
            "\t\n"
          ]
        }
      ],
      "source": [
        "# 1부터 20까지 반복 출력\n",
        "for i in range(1, 20):\n",
        "  for j in range(2, 20):\n",
        "    print(f'{j} * {i} = {i*j}', end='\\t')\n",
        "  print()\n",
        "\n",
        "# 내가 입력한 단만 출력\n",
        "a = int(input(\"> \"))\n",
        "for i in range(1,10):\n",
        "  print(f'{a} * {i} = {a*i}')\n",
        "\n",
        "# 입력값-1, 입력값, 입력값+1의 단 출력\n",
        "a = int(input(\"> \"))\n",
        "for k in range(a-1, a+2):\n",
        "  for i in range(1,10):\n",
        "    print(f'{k} * {i} = {k*i}')\n",
        "  print()"
      ]
    },
    {
      "cell_type": "code",
      "source": [
        "k=0\n",
        "for i in range(3):\n",
        "  for j in range(4):\n",
        "    print(k,end='\\t')\n",
        "    k+=1\n",
        "  print()\n",
        "\n",
        "print()\n",
        "\n",
        "for i in range(12):\n",
        "  print(i,end='\\t')\n",
        "  if (i-3)%4 == 0:\n",
        "    print()\n",
        "\n",
        "print()\n",
        "\n",
        "for i in range(3):\n",
        "  for k in range(4):\n",
        "    print(f'{i} - {k}',end='\\t')\n",
        "  print()\n",
        "\n",
        "print()\n",
        "\n",
        "# 0.0  0.1  0.2  0.3\n",
        "# 1.0  1.1  1.2  1.3\n",
        "# 2.0  2.1  2.2  2.3\n",
        "# 응용하면 자리배치 가능\n",
        "rows = 4 # 가로, 행\n",
        "cols = 6 # 세로, 열\n",
        "for i in range(rows):\n",
        "  for k in range(cols):\n",
        "    print(f'{(i*cols) + k+1}',end='\\t')\n",
        "  print()"
      ],
      "metadata": {
        "colab": {
          "base_uri": "https://localhost:8080/"
        },
        "id": "M7qqw7XvYxEF",
        "outputId": "86122ddf-a4c7-438d-9d0e-1d1264d73482"
      },
      "execution_count": null,
      "outputs": [
        {
          "output_type": "stream",
          "name": "stdout",
          "text": [
            "0\t1\t2\t3\t\n",
            "4\t5\t6\t7\t\n",
            "8\t9\t10\t11\t\n",
            "\n",
            "0\t1\t2\t3\t\n",
            "4\t5\t6\t7\t\n",
            "8\t9\t10\t11\t\n",
            "\n",
            "0 - 0\t0 - 1\t0 - 2\t0 - 3\t\n",
            "1 - 0\t1 - 1\t1 - 2\t1 - 3\t\n",
            "2 - 0\t2 - 1\t2 - 2\t2 - 3\t\n",
            "\n",
            "1\t2\t3\t4\t5\t6\t\n",
            "7\t8\t9\t10\t11\t12\t\n",
            "13\t14\t15\t16\t17\t18\t\n",
            "19\t20\t21\t22\t23\t24\t\n"
          ]
        }
      ]
    },
    {
      "cell_type": "code",
      "source": [
        "import random\n",
        "\n",
        "cnt = 0\n",
        "rows=int(input(\"가로줄을 입력하세요 > \"))\n",
        "cols=int(input(\"세로줄을 입력하세요 > \"))\n",
        "\n",
        "# 실제 학생수가 24보다 클 수도 있고, 작을 수도 있음\n",
        "# 24보다 큰 수는 가정하지 않고 24보다 작은 수를 가정해보면\n",
        "# 없는 자리를 X로 표시해서 24를 무조건 만들겠음\n",
        "# student를 무조건 24명으로 만들기(없는 자리는 X로)\n",
        "student = ['고현준','곽권','김규민','김민성','김민후','김서빈','김지민','박민지','박진우','박현지','신보경','양현욱','유승찬','유호진','이서연','이서영']\n",
        "# 현재 16명. 어떻게 24로 만들까? 만약 현재가 n명이고 전체도 m명 이라면?\n",
        "# n이 몇일까? ==> len(student)\n",
        "# m은 몇일까? ==> rows * cols\n",
        "# X 추가 ==> student.append('X')\n",
        "\n",
        "append = rows*cols-len(student)\n",
        "for i in range(append):\n",
        "  student.append('X')\n",
        "\n",
        "'''\n",
        "while(len(student) < rows*cols):\n",
        "  student.append(\"X\")\n",
        "'''\n",
        "\n",
        "random.shuffle(student) # 리스트 랜덤 섞기\n",
        "\n",
        "for j in range(rows):\n",
        "  for i in range(cols):\n",
        "    print(student[cnt],end='\\t')\n",
        "    cnt += 1\n",
        "  print()"
      ],
      "metadata": {
        "colab": {
          "base_uri": "https://localhost:8080/"
        },
        "id": "OzL4K2O_CC3L",
        "outputId": "855972c0-3579-48d3-b1fd-7fef39d7aa59"
      },
      "execution_count": null,
      "outputs": [
        {
          "output_type": "stream",
          "name": "stdout",
          "text": [
            "가로줄을 입력하세요 > 4\n",
            "세로줄을 입력하세요 > 6\n",
            "X\t신보경\t박진우\tX\t이서연\t고현준\t\n",
            "김규민\t유호진\t김서빈\t유승찬\tX\tX\t\n",
            "김민성\t김지민\tX\tX\t박현지\t김민후\t\n",
            "박민지\tX\t이서영\t곽권\tX\t양현욱\t\n"
          ]
        }
      ]
    },
    {
      "cell_type": "code",
      "source": [
        "for i in range(3):\n",
        "  for j in range(5):\n",
        "    print('*',end='')\n",
        "  print()\n",
        "\n",
        "print()\n",
        "\n",
        "for i in range(3):\n",
        "  for j in range(i+1):\n",
        "    print('*',end='')\n",
        "  print()\n",
        "\n",
        "print()\n",
        "\n",
        "# 행번호 i를 입력받아 별을 출력하는 코드\n",
        "rows = int(input(\"> \"))\n",
        "for i in range(rows):\n",
        "  for j in range(i+1):\n",
        "    print('*',end='')\n",
        "  print()\n",
        "\n",
        "print()\n",
        "\n",
        "# 반대로\n",
        "for i in range(rows):\n",
        "  for j in range(rows-i):\n",
        "    print('*',end='')\n",
        "  print()\n",
        "\n",
        "print()\n",
        "\n",
        "for i in range(rows):\n",
        "  for k in range(rows-(i+1)):\n",
        "    print(' ',end='')\n",
        "  for k in range(i+1):\n",
        "    print('*',end='')\n",
        "  print()\n",
        "\n",
        "print()\n",
        "\n",
        "# n이 무조건 홀수\n",
        "'''\n",
        "___*___\n",
        "__***__\n",
        "_*****_\n",
        "__***__\n",
        "___*___\n",
        "'''\n",
        "for i in range(rows):\n",
        "  for k in range(rows):\n",
        "    print('_',end='')\n",
        "  for k in range(i):\n",
        "    print('*',end='')\n",
        "  for k in range(rows-(i+1)):\n",
        "    print(' ',end='')\n",
        "  print()"
      ],
      "metadata": {
        "colab": {
          "base_uri": "https://localhost:8080/"
        },
        "id": "nRmGxn1n_BPy",
        "outputId": "249e4f19-1b9a-4848-bc75-e7f5f3201205"
      },
      "execution_count": null,
      "outputs": [
        {
          "output_type": "stream",
          "name": "stdout",
          "text": [
            "*****\n",
            "*****\n",
            "*****\n",
            "\n",
            "*\n",
            "**\n",
            "***\n",
            "\n",
            "> 5\n",
            "*\n",
            "**\n",
            "***\n",
            "****\n",
            "*****\n",
            "\n",
            "*****\n",
            "****\n",
            "***\n",
            "**\n",
            "*\n",
            "\n",
            "    *\n",
            "   **\n",
            "  ***\n",
            " ****\n",
            "*****\n",
            "\n",
            "_____    \n",
            "_____*   \n",
            "_____**  \n",
            "_____*** \n",
            "_____****\n"
          ]
        }
      ]
    },
    {
      "cell_type": "code",
      "source": [
        "rows = int(input(\"rows > \")) # 행\n",
        "cols = int(input(\"cols > \")) # 열\n",
        "\n",
        "# toggle\n",
        "# 왔다갔다하면서 상태가 변하는 것\n",
        "# 누르면 on, 떼면 off\n",
        "t=-1\n",
        "for i in range(1, rows+1):\n",
        "  for j in range(cols):\n",
        "    print(i*t,end='')\n",
        "  t*=-1\n",
        "  print()\n",
        "\n",
        "# x = 4\n",
        "# y = 5  정수 ㄴㄴ ==> 실수!!\n",
        "# x *= 1.0 ==> 실수\n",
        "# a = 1 ==> 문자!\n",
        "# a *= 1\n"
      ],
      "metadata": {
        "colab": {
          "base_uri": "https://localhost:8080/"
        },
        "id": "JetlH96WkN2t",
        "outputId": "94379b5e-956b-4048-e427-673222f17f83"
      },
      "execution_count": null,
      "outputs": [
        {
          "output_type": "stream",
          "name": "stdout",
          "text": [
            "rows > 5\n",
            "cols > 5\n",
            "-1-1-1-1-1\n",
            "22222\n",
            "-3-3-3-3-3\n",
            "44444\n",
            "-5-5-5-5-5\n"
          ]
        }
      ]
    },
    {
      "cell_type": "code",
      "source": [
        "# print diamond\n",
        "'''\n",
        "000080000\n",
        "000888000\n",
        "008888800\n",
        "088888880\n",
        "888888888\n",
        "088888880\n",
        "008888800\n",
        "000888000\n",
        "000080000\n",
        "'''\n",
        "rows = int(input(\"rows > \"))    # input 5\n",
        "row = rows\n",
        "for i in range(0, rows+1): # range(5)\n",
        "  for j in range(row-i, 0, -1): #range(4,1)\n",
        "    print('_',end='')\n",
        "  for k in range(i+1): #range(0)\n",
        "    print('8',end='')\n",
        "  for p in range(i):\n",
        "    print('8',end='')\n",
        "  for o in range(row-i, 0, -1):\n",
        "    print('_',end='')\n",
        "  print()\n",
        "\n",
        "for i in range(1, rows+1):\n",
        "  for j in range(i):\n",
        "    print('_',end='')\n",
        "  for k in range(row-i, 0, -1):\n",
        "    print('8',end='')\n",
        "  for p in range(i-1, row):\n",
        "    print('8',end='')\n",
        "  for o in range(i):\n",
        "    print('_',end='')\n",
        "  print()\n",
        "\n",
        "# 그지야 그지!!!!!"
      ],
      "metadata": {
        "colab": {
          "base_uri": "https://localhost:8080/"
        },
        "id": "ma1QGM6SrHqh",
        "outputId": "43e93a73-a14b-4d86-a7f7-9677b58f5aa3"
      },
      "execution_count": null,
      "outputs": [
        {
          "output_type": "stream",
          "name": "stdout",
          "text": [
            "rows > 5\n",
            "_____8_____\n",
            "____888____\n",
            "___88888___\n",
            "__8888888__\n",
            "_888888888_\n",
            "88888888888\n",
            "_888888888_\n",
            "__8888888__\n",
            "___88888___\n",
            "____888____\n",
            "_____8_____\n"
          ]
        }
      ]
    },
    {
      "cell_type": "code",
      "source": [
        "'''\n",
        "0008000     0번  0*3  8*1  0*3\n",
        "0088800     1번  0*2  8*3  0*2        ==>  0 출력  8 출력  0 출력\n",
        "0888880     1번  0*1  8*5  0*1\n",
        "8888888     1번  0*0  8*7  0*0\n",
        "'''\n",
        "\n",
        "\n",
        "rows = int(input('줄 개수 홀수 개 입력 > '))\n",
        "\n",
        "loof = int(rows/2)+1 # 7이라면 4\n",
        "star = 1\n",
        "zero = (loof-1)\n",
        "sw = 1\n",
        "\n",
        "for i in range(rows):\n",
        "  for j in range(zero):\n",
        "    print('0',end='')\n",
        "  for j in range(star):\n",
        "    print('8',end='')\n",
        "  for j in range(zero):\n",
        "    print('0',end='')\n",
        "  print()\n",
        "  if i == loof -1: # 절반이 되면 스왑해주기\n",
        "    sw *= -1\n",
        "  star += 2*sw\n",
        "  zero -= 1*sw\n",
        "\n",
        "#'''\n",
        "#star -=2\n",
        "\n",
        "#for i in range(loof-1):\n",
        "#  star -=2\n",
        "#  zero +=1\n",
        "#  for j in range(zero+1):\n",
        "#    print('0',end='')\n",
        "#  for k in range(star):\n",
        "#    print('8',end='')\n",
        "#  for j in range(zero+1):\n",
        "#    print('0',end='')\n",
        "#  print()\n",
        "#'''\n",
        "\n",
        "\n"
      ],
      "metadata": {
        "colab": {
          "base_uri": "https://localhost:8080/"
        },
        "id": "NJsD3LuZy7sV",
        "outputId": "524aa114-ace3-42b8-87a4-a4f8e94b6357"
      },
      "execution_count": 2,
      "outputs": [
        {
          "output_type": "stream",
          "name": "stdout",
          "text": [
            "줄 개수 홀수 개 입력 > 7\n",
            "0008000\n",
            "0088800\n",
            "0888880\n",
            "8888888\n",
            "0888880\n",
            "0088800\n",
            "0008000\n"
          ]
        }
      ]
    },
    {
      "cell_type": "code",
      "source": [
        "# 1 2 3 4 5 6 7\n",
        "# 8 ~~~~~     14\n",
        "# ~~~         35\n",
        "\n",
        "for i in range(1,6):\n",
        "  for j in range(1,8):\n",
        "    print((i-1)*7+j, end='\\t')\n",
        "  print()"
      ],
      "metadata": {
        "colab": {
          "base_uri": "https://localhost:8080/"
        },
        "id": "_XWh0-iPGfzc",
        "outputId": "2328bad8-2c49-4c94-e7ce-8b2f759045b8"
      },
      "execution_count": null,
      "outputs": [
        {
          "output_type": "stream",
          "name": "stdout",
          "text": [
            "1\t2\t3\t4\t5\t6\t7\t\n",
            "8\t9\t10\t11\t12\t13\t14\t\n",
            "15\t16\t17\t18\t19\t20\t21\t\n",
            "22\t23\t24\t25\t26\t27\t28\t\n",
            "29\t30\t31\t32\t33\t34\t35\t\n"
          ]
        }
      ]
    },
    {
      "cell_type": "code",
      "source": [
        "#1\n",
        "#23\n",
        "#456\n",
        "#78910\n",
        "\n",
        "num=1\n",
        "for i in range(5):\n",
        "  for j in range(i+1):\n",
        "    print(num,end='\\t')\n",
        "    num+=1\n",
        "  print()"
      ],
      "metadata": {
        "colab": {
          "base_uri": "https://localhost:8080/"
        },
        "id": "7ehQ6A_mMg4u",
        "outputId": "69634b50-ca50-474e-e70b-7c47f0ba0c4e"
      },
      "execution_count": null,
      "outputs": [
        {
          "output_type": "stream",
          "name": "stdout",
          "text": [
            "1\t\n",
            "2\t3\t\n",
            "4\t5\t6\t\n",
            "7\t8\t9\t10\t\n",
            "11\t12\t13\t14\t15\t\n"
          ]
        }
      ]
    },
    {
      "cell_type": "code",
      "source": [
        "# 배열 = 파이썬> 리스트\n",
        "# 배열은 고정, 리스트는 유동적\n",
        "\n",
        "# 리스트 생성\n",
        "list =[] # 비어있음\n",
        "list =[1,2,3,4] # 넣은채로 생성\n",
        "print(list) # 출력됨\n",
        "\n",
        "list2 = ['a',1,2,3.0] # 다른 자료형들도 사용할 수 있음\n",
        "list2.append('4') # append를 이용하여 마지막 항목 추가\n",
        "list2.remove('a') # remove -> 항목을 검색하여 삭제\n",
        "print(list2)\n",
        "\n",
        "list2.append(1) # [1,2,3.0,'4',1]\n",
        "print(list2)\n",
        "list2.remove(1) # 중복된 값이 있을 땐 앞에서부터 삭제\n",
        "print(list2)\n",
        "\n",
        "list2.pop() # 항상 마지막 항 삭제\n",
        "print(list2)\n",
        "\n",
        "# 리스트의 기능을 쓰기 위해서 리스트 변수에 .을 찍어서 리스트의 기능 사용\n",
        "list2.insert(1, '2.5') # 원하는 위치에 윈하는 값을 집어넣기\n",
        "print(list2)\n",
        "\n"
      ],
      "metadata": {
        "colab": {
          "base_uri": "https://localhost:8080/"
        },
        "id": "hev94-30nlD5",
        "outputId": "8ae80e0f-8d9a-4b4b-80fb-585c6bd9eee6"
      },
      "execution_count": 7,
      "outputs": [
        {
          "output_type": "stream",
          "name": "stdout",
          "text": [
            "[1, 2, 3, 4]\n",
            "[1, 2, 3.0, '4']\n",
            "[1, 2, 3.0, '4', 1]\n",
            "[2, 3.0, '4', 1]\n",
            "[2, 3.0, '4']\n",
            "[2, '2.5', 3.0, '4']\n"
          ]
        }
      ]
    },
    {
      "cell_type": "code",
      "source": [
        "stack = []\n",
        "\n",
        "def pop():  # 값을 꺼내는 기능\n",
        "  if len(stack) > 0: # 리스트의 길이를 검사하는 방법\n",
        "    stack.pop()\n",
        "  else: # 길이가 0\n",
        "    print('비었습니다.')\n",
        "\n",
        "def push(val):  # 값을 추가하는 기능\n",
        "  stack.append(val)\n",
        "\n",
        "while True:\n",
        "  print(f'현재 상태: {stack}')\n",
        "  select = input(\"동작을 입력하세요 | 1.삭제   2.삽입   3.종료 |> \")\n",
        "  if select == '1':  # 삭제\n",
        "    pop()\n",
        "  elif select == '2':  # 삽입\n",
        "    val = input('넣을 값을 입력하세요 > ')\n",
        "    push(val)\n",
        "  elif select == '3':  # 종료\n",
        "    print(f'최종 결과 : {stack}')\n",
        "    print('종료합니다')\n",
        "    break\n",
        "  else:\n",
        "    print('잘못입력하셨습니다\\n1~3 중 하나의 숫자를 입력해주세요')\n",
        "\n"
      ],
      "metadata": {
        "colab": {
          "base_uri": "https://localhost:8080/"
        },
        "id": "xStcrSjWr9YH",
        "outputId": "25e7a52b-c09d-4b39-bae3-b9270db8e9d1"
      },
      "execution_count": 15,
      "outputs": [
        {
          "output_type": "stream",
          "name": "stdout",
          "text": [
            "현재 상태: []\n",
            "동작을 입력하세요 | 1.삭제   2.삽입   3.종료 |> 2\n",
            "넣을 값을 입력하세요 > 3\n",
            "현재 상태: ['3']\n",
            "동작을 입력하세요 | 1.삭제   2.삽입   3.종료 |> 3\n",
            "최종 결과 : ['3']\n",
            "종료합니다\n"
          ]
        }
      ]
    },
    {
      "cell_type": "code",
      "source": [
        "# 배열의 크기를 정하고 append랑 pop 없이 구현\n",
        "global size, lastInx # global을 먼저 선언해야 함수에서 같이 사용할 수 있음\n",
        "\n",
        "size = int(input('배열의 크기를 지정하세요 > '))\n",
        "stack = [None for i in range(size)]\n",
        "lastInx = -1 # 아무것도 지정되지 않음  # 0으로 지정하면 방금 들어간 값의 한칸 앞에 있음\n",
        "\n",
        "def pop():\n",
        "  global lastInx # 함수 밖에서 선언한 lastInx 사용\n",
        "  if lastInx > -1: # 배열 안에 하나라도 있다면 꺼내가 => None으로 표현\n",
        "    stack[lastInx] = None\n",
        "    lastInx -= 1\n",
        "  else:\n",
        "    print('배열이 비었습니다.')\n",
        "\n",
        "def push(value):\n",
        "  global size, lastInx\n",
        "  if lastInx < (size-1):\n",
        "    lastInx += 1\n",
        "    stack[lastInx] = value\n",
        "  else:\n",
        "    print('배열이 꽉 찼습니다.')\n",
        "\n",
        "def show():\n",
        "  if lastInx <= -1:\n",
        "    print('배열이 비었습니다.')\n",
        "  for i in range(lastInx+1):\n",
        "    print(f'{stack[i]}',end='\\t')\n",
        "\n",
        "while True:\n",
        "  print()\n",
        "  sel = input('동작을 입력하세요 | 1.삭제   2.삽입   3.현황   4.종료 |> ')\n",
        "  if sel == '1':\n",
        "    pop()\n",
        "  elif sel == '2':\n",
        "    value = input('삽입할 값을 입력하세요> ')\n",
        "    push(value)\n",
        "  elif sel == '3':\n",
        "    show()\n",
        "  elif sel == '4':\n",
        "    print('종료합니다.')\n",
        "    print('최종 결과\\n:',end='')\n",
        "    for i in stack:\n",
        "      print(i,end='\\t')\n",
        "    break\n",
        "  else:\n",
        "    print('잘못입력하셨습니다.\\n1부터 4 중 하나를 입력해주세요')"
      ],
      "metadata": {
        "colab": {
          "base_uri": "https://localhost:8080/"
        },
        "id": "BcQttWbMvaB_",
        "outputId": "964c0bd1-20a5-4d1d-d5db-12eecbaafe5c"
      },
      "execution_count": 32,
      "outputs": [
        {
          "output_type": "stream",
          "name": "stdout",
          "text": [
            "배열의 크기를 지정하세요 > 2\n",
            "\n",
            "동작을 입력하세요 | 1.삭제   2.삽입   3.현황   4.종료 |> 4\n",
            "종료합니다.\n",
            "최종 결과\n",
            ":None\tNone\t"
          ]
        }
      ]
    }
  ]
}