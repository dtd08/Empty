{
  "nbformat": 4,
  "nbformat_minor": 0,
  "metadata": {
    "colab": {
      "provenance": [],
      "authorship_tag": "ABX9TyMGs0ZLmxO/69tN//GFDY2L",
      "include_colab_link": true
    },
    "kernelspec": {
      "name": "python3",
      "display_name": "Python 3"
    },
    "language_info": {
      "name": "python"
    }
  },
  "cells": [
    {
      "cell_type": "markdown",
      "metadata": {
        "id": "view-in-github",
        "colab_type": "text"
      },
      "source": [
        "<a href=\"https://colab.research.google.com/github/dtd08/Empty/blob/main/%ED%8C%8C%EC%9D%B4%EC%8D%AC_%EA%B8%B0%EC%B4%88.ipynb\" target=\"_parent\"><img src=\"https://colab.research.google.com/assets/colab-badge.svg\" alt=\"Open In Colab\"/></a>"
      ]
    },
    {
      "cell_type": "markdown",
      "source": [
        "파이썬은 띄어쓰기를 조심해야함\n",
        "print문장은 화면에 출력해주는 명령어"
      ],
      "metadata": {
        "id": "jr_x85sqtJiP"
      }
    },
    {
      "cell_type": "code",
      "source": [],
      "metadata": {
        "id": "XlDHseeg7ybJ"
      },
      "execution_count": null,
      "outputs": []
    },
    {
      "cell_type": "markdown",
      "source": [
        "\n",
        "파이썬에서 변수 만들기는 쉬움.\n",
        "약속되지 않은 이름을 사용하면 됨"
      ],
      "metadata": {
        "id": "IqRbXrQfu0Px"
      }
    },
    {
      "cell_type": "code",
      "source": [
        "print(\"My first Python code!\") #따옴표로 감싸있음 => 문자열\n",
        "\n",
        "a='Hi' #'=' 대입연산자\n",
        "b='nice to meet you'\n",
        "#{a}, {b} #format?\n",
        "print(f'{a}, My name is Lee seoyoung. {b}')\n",
        "\n",
        "#얘도 포멧인데\n",
        "name = 'Lee seoYoung'\n",
        "print(\"My name is {}\".format(name))\n",
        "\n",
        "name = '홍길동'\n",
        "age = 17\n",
        "print('안녕하세요. 전', name, '이고, ', age, '살 입니다')\n"
      ],
      "metadata": {
        "colab": {
          "base_uri": "https://localhost:8080/"
        },
        "id": "3bBSATv5sDev",
        "outputId": "4677475c-7497-481a-904a-a2721cd8557b"
      },
      "execution_count": null,
      "outputs": [
        {
          "output_type": "stream",
          "name": "stdout",
          "text": [
            "My first Python code!\n",
            "Hi, My name is Lee seoyoung. nice to meet you\n",
            "My name is Lee seoYoung\n",
            "안녕하세요. 전 홍길동 이고,  17 살 입니다\n"
          ]
        }
      ]
    },
    {
      "cell_type": "code",
      "source": [
        "#연산자\n",
        "a = 5\n",
        "b = 3\n",
        "print(a%b) #나머지를 구하는 연산자"
      ],
      "metadata": {
        "colab": {
          "base_uri": "https://localhost:8080/"
        },
        "id": "IE7KRYtQ_0MH",
        "outputId": "2383a475-9801-47c1-ba7a-def537afae11"
      },
      "execution_count": null,
      "outputs": [
        {
          "output_type": "stream",
          "name": "stdout",
          "text": [
            "2\n"
          ]
        }
      ]
    },
    {
      "cell_type": "code",
      "source": [
        "a = 5\n",
        "b = 3\n",
        "c = 5\n",
        "print(a == b) #비교연산자\n",
        "print(a == c)\n",
        "print(a != b)\n",
        "print(a != c)\n",
        "#결과: False True True False"
      ],
      "metadata": {
        "colab": {
          "base_uri": "https://localhost:8080/"
        },
        "id": "4efB5w4JAjKd",
        "outputId": "47dec089-4650-4628-bbed-7ddcc3b71a46"
      },
      "execution_count": null,
      "outputs": [
        {
          "output_type": "stream",
          "name": "stdout",
          "text": [
            "False\n",
            "True\n",
            "True\n",
            "False\n"
          ]
        }
      ]
    },
    {
      "cell_type": "code",
      "source": [
        "\n",
        "a = 5 #서로 값을 교환\n",
        "b = 2\n",
        "print(\"교환 전: \", a, \", \", b)\n",
        "temp = a\n",
        "a = b\n",
        "b = temp\n",
        "print(\"교환 후: \", a , \", \", b)\n",
        "\n",
        "a = a+b\n",
        "b = a-b\n",
        "a = a-b\n",
        "print(a, b)\n"
      ],
      "metadata": {
        "colab": {
          "base_uri": "https://localhost:8080/"
        },
        "id": "2Haq5HcPBN4n",
        "outputId": "af5abe39-6975-4aa2-9a5a-17c2bd185f98"
      },
      "execution_count": null,
      "outputs": [
        {
          "output_type": "stream",
          "name": "stdout",
          "text": [
            "교환 전:  5 ,  2\n",
            "교환 후:  2 ,  5\n",
            "5 2\n"
          ]
        }
      ]
    },
    {
      "cell_type": "code",
      "source": [
        "str = 'hello'"
      ],
      "metadata": {
        "id": "F6MomwDAc4lW"
      },
      "execution_count": null,
      "outputs": []
    },
    {
      "cell_type": "code",
      "source": [
        "print(str)"
      ],
      "metadata": {
        "colab": {
          "base_uri": "https://localhost:8080/"
        },
        "id": "6Ltpl0mxc4rb",
        "outputId": "dd089077-1f22-44dd-c216-f6cc6c279b74"
      },
      "execution_count": null,
      "outputs": [
        {
          "output_type": "stream",
          "name": "stdout",
          "text": [
            "hello\n"
          ]
        }
      ]
    },
    {
      "cell_type": "code",
      "source": [
        "#우리반 학생을 저장(1~10번)\n",
        " #방법 1\n",
        "s1 = '김개똥'\n",
        "s2 = '홍길동' #만약 학생이 100명이라면? 100개의 변수가 필요\n",
        "\n",
        " #방법 2\n",
        "student = ['홍길동', '김개똥', 100] #리스트에 다른 형태의 자료형도 보관 가능(== 굉장히 혜자스러운 점)\n",
        "#하나의 묶음으로 보관 ==> List (다른 언어에서는 배열 array 이라 부름)\n",
        "\n",
        "print(student[0])\n",
        "print(student[1])\n",
        "print(student[2])\n",
        "#배열의 시작 방번호는 항상 0이다 \n",
        "#진수란 한 자리에 몇까지 들어가냐는 것 ==> 한 자리에 9까지 쓰지 10을 쓰지 않음 ==> 10진수란 0~9를 이용해 수를 나타내는 진법임 \n",
        "\n",
        "student.append('이서영') #리스트에 값 추가 == append()\n",
        "print(student[3])\n",
        "\n",
        "#리스트에서 쓸 수 있는 기능들은 어떤게 있을까?\n",
        "#특정항목 삭제\n",
        "student2 = []\n",
        "student2 = student\n",
        "student2.pop(1) #나가는건 pop, 들어오는건 push, 1번방 항목이 삭제된다\n",
        "print(student2)\n",
        "del(student2[2])\n",
        "print(student2)"
      ],
      "metadata": {
        "colab": {
          "base_uri": "https://localhost:8080/"
        },
        "id": "DKjdLS6sdM6s",
        "outputId": "87ff10ca-dce7-4d88-e605-9d4991233fac"
      },
      "execution_count": null,
      "outputs": [
        {
          "output_type": "stream",
          "name": "stdout",
          "text": [
            "홍길동\n",
            "김개똥\n",
            "100\n",
            "이서영\n",
            "['홍길동', 100, '이서영']\n",
            "['홍길동', 100]\n"
          ]
        }
      ]
    },
    {
      "cell_type": "code",
      "source": [
        "# 1번의 이름, 국어, 영어, 정보 성적을 보관\n",
        "# 2번의 이름, 국어, 영어, 정보      \"\n",
        "s1 = ['김개똥', 100, 50, 70]\n",
        "s2 = ['홍길동', 60, 70, 100]\n",
        "\n",
        "cls = [s1, s2] # 리스트 안에 리스트(배열)를 넣을 수 있음 => 2차원 리스트(배열)\n",
        "print(cls)\n",
        "a1 = cls[0] #s1 = 김개똥의 배열\n",
        "print(a1[1]) #김개똥의 국어 점수\n",
        "print(cls[0][1])\n",
        "\n",
        "#배열과 리스트의 차이\n",
        "# 배열 ==> 크기 고정, 변경불가\n",
        "# 리스트 ==> 크기가 변함, 변경 가능"
      ],
      "metadata": {
        "colab": {
          "base_uri": "https://localhost:8080/"
        },
        "id": "aDjl0sO6jEsw",
        "outputId": "e8408a8b-deb9-44dc-90df-0ff25d2ebbd1"
      },
      "execution_count": null,
      "outputs": [
        {
          "output_type": "stream",
          "name": "stdout",
          "text": [
            "[['김개똥', 100, 50, 70], ['홍길동', 60, 70, 100]]\n"
          ]
        }
      ]
    },
    {
      "cell_type": "code",
      "source": [
        "# type(변수) = 변수의 타입(자료의 형태를 출력)\n",
        "print(type(cls)) #cls의 자료형\n",
        "num = 3.14\n",
        "print(type(num))"
      ],
      "metadata": {
        "colab": {
          "base_uri": "https://localhost:8080/"
        },
        "id": "3TzLFq1DltvG",
        "outputId": "04814e1f-0fb0-4a00-d4a8-021411a22139"
      },
      "execution_count": null,
      "outputs": [
        {
          "output_type": "stream",
          "name": "stdout",
          "text": [
            "<class 'list'>\n",
            "<class 'float'>\n"
          ]
        }
      ]
    },
    {
      "cell_type": "code",
      "source": [
        "#사용자 입력\n",
        "# print(안내문자) 또는 input(안내문자)\n",
        "name = input(\"이름을 입력하세요 > \") # 입력하기 기능\n",
        "print(\"hello\", name)\n",
        "\n",
        "print('hello' + name)\n",
        "\n",
        "#포맷팅 print(f\"문자열 {포맷할 변수}\")\n",
        "print(f'Hello {name}') # 'f' 로 시작하는 포맷팅을 이용해서 변수를 안에 표현할 수 있음 "
      ],
      "metadata": {
        "colab": {
          "base_uri": "https://localhost:8080/"
        },
        "id": "Ssser-YXrSDU",
        "outputId": "ff925347-fd49-4999-9dc9-d450396fb0f9"
      },
      "execution_count": null,
      "outputs": [
        {
          "output_type": "stream",
          "name": "stdout",
          "text": [
            "이서영\n",
            "hello 이서영\n"
          ]
        }
      ]
    },
    {
      "cell_type": "code",
      "source": [
        "num = 240+180+330+190+180+520+290+870+220+440+340+570+320+310\n",
        "print(num)"
      ],
      "metadata": {
        "colab": {
          "base_uri": "https://localhost:8080/"
        },
        "id": "9yuvHByMsCAj",
        "outputId": "8113dd13-bc79-4e2f-fd73-cf2b71c1ce3e"
      },
      "execution_count": null,
      "outputs": [
        {
          "output_type": "stream",
          "name": "stdout",
          "text": [
            "5000\n"
          ]
        }
      ]
    },
    {
      "cell_type": "code",
      "source": [
        "#리스트에 관해서... 문자열\n",
        "#String = 문자열\n",
        "str = 'Hello World' #자체가 배열\n",
        "print(str[4]) #['H','e','l','l'....] 형태로 저장되고 있음\n",
        "print(len(str)) #len() 기능은 문자의 길이를 출력\n",
        "\n",
        "list1 = [1,2,3,4,5] #배열의 길이를 알 수 있을까?\n",
        "print(len(list1)) #가능"
      ],
      "metadata": {
        "colab": {
          "base_uri": "https://localhost:8080/"
        },
        "id": "duL043fW71Y3",
        "outputId": "4cf19fde-4ced-4b8f-c584-26a1a3d45709"
      },
      "execution_count": null,
      "outputs": [
        {
          "output_type": "stream",
          "name": "stdout",
          "text": [
            "o\n",
            "11\n",
            "5\n"
          ]
        }
      ]
    },
    {
      "cell_type": "code",
      "source": [
        "#반복문 - 반복된 작업을 쉽게\n",
        "#상황 - 리스트 = [0,0,0,0,0,0,,,,,] => 100칸 생성\n",
        "#만약 반복문을 쓰지 않는다면....\n",
        "# => list = [0,0,0,0,....] 또는\n",
        "# => list = []    list.append(0)...100번\n",
        "\n",
        "# 이런 상황을 타개하기 위해 만들어진게 반복 명령어(for, while)\n",
        "# for = 제한된 횟수 만큼 반복\n",
        "# k = 반복하면서 사용할 변수\n",
        "for k in range(10): #range(범위)  0~(범위-1) 까지\n",
        "                    #range(시작범위, 끝범위)  시작범위부터 (끝범위-1) 까지\n",
        "# ' : ' 표시는 중괄호 시작이랑 같은 뜻\n",
        "  #안에 들여쓰기 함 \n",
        "  print(k) # k는 0~9까지 변신\n",
        "  print('반복중')"
      ],
      "metadata": {
        "colab": {
          "base_uri": "https://localhost:8080/"
        },
        "id": "rdBHo3sm-tkG",
        "outputId": "f9e9bfad-2e93-4608-88da-50f3eabae110"
      },
      "execution_count": null,
      "outputs": [
        {
          "output_type": "stream",
          "name": "stdout",
          "text": [
            "0\n",
            "반복중\n",
            "1\n",
            "반복중\n",
            "2\n",
            "반복중\n",
            "3\n",
            "반복중\n",
            "4\n",
            "반복중\n",
            "5\n",
            "반복중\n",
            "6\n",
            "반복중\n",
            "7\n",
            "반복중\n",
            "8\n",
            "반복중\n",
            "9\n",
            "반복중\n"
          ]
        }
      ]
    },
    {
      "cell_type": "code",
      "source": [
        "#리스트 배열을 만들고 [0,2,4,6...] 순서로 100개의 값을 초기화\n",
        "#배열의 항목을 추가하는 명령어 append()\n",
        "\n",
        "#방법 1\n",
        "list = []\n",
        "for n in range(100):\n",
        "  list.append(n*2)\n",
        "print(list)\n",
        "#print(len(list))\n",
        "\n",
        "#방법 2\n",
        "list2 = []\n",
        "for n in range(0, 200, 2): #0부터 200까지 2씩 커짐\n",
        "  list2.append(n)\n",
        "print(list2)\n",
        "print(len(list2))"
      ],
      "metadata": {
        "colab": {
          "base_uri": "https://localhost:8080/"
        },
        "id": "VEW3JX4l_qR2",
        "outputId": "ee98192b-fe1f-4de1-847e-0eb02ace307b"
      },
      "execution_count": null,
      "outputs": [
        {
          "output_type": "stream",
          "name": "stdout",
          "text": [
            "[0, 2, 4, 6, 8, 10, 12, 14, 16, 18, 20, 22, 24, 26, 28, 30, 32, 34, 36, 38, 40, 42, 44, 46, 48, 50, 52, 54, 56, 58, 60, 62, 64, 66, 68, 70, 72, 74, 76, 78, 80, 82, 84, 86, 88, 90, 92, 94, 96, 98, 100, 102, 104, 106, 108, 110, 112, 114, 116, 118, 120, 122, 124, 126, 128, 130, 132, 134, 136, 138, 140, 142, 144, 146, 148, 150, 152, 154, 156, 158, 160, 162, 164, 166, 168, 170, 172, 174, 176, 178, 180, 182, 184, 186, 188, 190, 192, 194, 196, 198]\n",
            "[0, 2, 4, 6, 8, 10, 12, 14, 16, 18, 20, 22, 24, 26, 28, 30, 32, 34, 36, 38, 40, 42, 44, 46, 48, 50, 52, 54, 56, 58, 60, 62, 64, 66, 68, 70, 72, 74, 76, 78, 80, 82, 84, 86, 88, 90, 92, 94, 96, 98, 100, 102, 104, 106, 108, 110, 112, 114, 116, 118, 120, 122, 124, 126, 128, 130, 132, 134, 136, 138, 140, 142, 144, 146, 148, 150, 152, 154, 156, 158, 160, 162, 164, 166, 168, 170, 172, 174, 176, 178, 180, 182, 184, 186, 188, 190, 192, 194, 196, 198]\n",
            "100\n"
          ]
        }
      ]
    },
    {
      "cell_type": "code",
      "source": [
        "#for문은 반복문 => 똑같은 작업을 할 수 있도록 횟수를 지정하는 반복문\n",
        "n = input('숫자를 입력하세요 > ')\n",
        "print(n*3) #input()으로 받은 값은 문자로 처리됨\n",
        "k = int(n)\n",
        "print(k*3)\n",
        "# 또는 n = int(input())"
      ],
      "metadata": {
        "id": "Wtx1HzPwBdr9",
        "colab": {
          "base_uri": "https://localhost:8080/"
        },
        "outputId": "f6a3da55-6e98-4ef4-a7cf-9cc548043f01"
      },
      "execution_count": 5,
      "outputs": [
        {
          "output_type": "stream",
          "name": "stdout",
          "text": [
            "숫자를 입력하세요 > 3\n",
            "333\n",
            "9\n"
          ]
        }
      ]
    },
    {
      "cell_type": "code",
      "source": [
        "#입력하는 단의 구구단 출력\n",
        "# 예)   3 입력 => 3*1 = 3.... 3*9 = 27\n",
        "n = int(input())\n",
        "for i in range(1, 10):  #1~10 전까지 = 1~9    #콜론 \":\" 붙이도록\n",
        "  # 반복할 작업은 탭만큼 들여써서 작성\n",
        "  print(f\"{n} * {i} = {n*i}\") # {}는 안에 있는 변수의 값을 출력\n",
        "print(\"-end-\")"
      ],
      "metadata": {
        "colab": {
          "base_uri": "https://localhost:8080/"
        },
        "id": "RGZPOo5XfK3N",
        "outputId": "6a607ce6-44ec-4a7b-d228-0c862faa54eb"
      },
      "execution_count": 12,
      "outputs": [
        {
          "output_type": "stream",
          "name": "stdout",
          "text": [
            "3\n",
            "3 * 1 = 3\n",
            "3 * 2 = 6\n",
            "3 * 3 = 9\n",
            "3 * 4 = 12\n",
            "3 * 5 = 15\n",
            "3 * 6 = 18\n",
            "3 * 7 = 21\n",
            "3 * 8 = 24\n",
            "3 * 9 = 27\n",
            "-end-\n"
          ]
        }
      ]
    }
  ]
}