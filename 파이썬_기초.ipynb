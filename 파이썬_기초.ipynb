{
  "nbformat": 4,
  "nbformat_minor": 0,
  "metadata": {
    "colab": {
      "provenance": [],
      "authorship_tag": "ABX9TyP0O7VBIIy+AMA7Z1jonxH/",
      "include_colab_link": true
    },
    "kernelspec": {
      "name": "python3",
      "display_name": "Python 3"
    },
    "language_info": {
      "name": "python"
    }
  },
  "cells": [
    {
      "cell_type": "markdown",
      "metadata": {
        "id": "view-in-github",
        "colab_type": "text"
      },
      "source": [
        "<a href=\"https://colab.research.google.com/github/dtd08/Empty/blob/main/%ED%8C%8C%EC%9D%B4%EC%8D%AC_%EA%B8%B0%EC%B4%88.ipynb\" target=\"_parent\"><img src=\"https://colab.research.google.com/assets/colab-badge.svg\" alt=\"Open In Colab\"/></a>"
      ]
    },
    {
      "cell_type": "markdown",
      "source": [
        "파이썬은 띄어쓰기를 조심해야함\n",
        "print문장은 화면에 출력해주는 명령어"
      ],
      "metadata": {
        "id": "jr_x85sqtJiP"
      }
    },
    {
      "cell_type": "code",
      "source": [],
      "metadata": {
        "id": "XlDHseeg7ybJ"
      },
      "execution_count": null,
      "outputs": []
    },
    {
      "cell_type": "markdown",
      "source": [
        "\n",
        "파이썬에서 변수 만들기는 쉬움.\n",
        "약속되지 않은 이름을 사용하면 됨"
      ],
      "metadata": {
        "id": "IqRbXrQfu0Px"
      }
    },
    {
      "cell_type": "code",
      "source": [
        "print(\"My first Python code!\") #따옴표로 감싸있음 => 문자열\n",
        "\n",
        "a='Hi' #'=' 대입연산자\n",
        "b='nice to meet you'\n",
        "#{a}, {b} #format?\n",
        "print(f'{a}, My name is Lee seoyoung. {b}')\n",
        "\n",
        "#얘도 포멧인데\n",
        "name = 'Lee seoYoung'\n",
        "print(\"My name is {}\".format(name))\n",
        "\n",
        "name = '홍길동'\n",
        "age = 17\n",
        "print('안녕하세요. 전', name, '이고, ', age, '살 입니다')\n"
      ],
      "metadata": {
        "colab": {
          "base_uri": "https://localhost:8080/"
        },
        "id": "3bBSATv5sDev",
        "outputId": "4677475c-7497-481a-904a-a2721cd8557b"
      },
      "execution_count": null,
      "outputs": [
        {
          "output_type": "stream",
          "name": "stdout",
          "text": [
            "My first Python code!\n",
            "Hi, My name is Lee seoyoung. nice to meet you\n",
            "My name is Lee seoYoung\n",
            "안녕하세요. 전 홍길동 이고,  17 살 입니다\n"
          ]
        }
      ]
    },
    {
      "cell_type": "code",
      "source": [
        "#연산자\n",
        "a = 5\n",
        "b = 3\n",
        "print(a%b) #나머지를 구하는 연산자"
      ],
      "metadata": {
        "colab": {
          "base_uri": "https://localhost:8080/"
        },
        "id": "IE7KRYtQ_0MH",
        "outputId": "2383a475-9801-47c1-ba7a-def537afae11"
      },
      "execution_count": null,
      "outputs": [
        {
          "output_type": "stream",
          "name": "stdout",
          "text": [
            "2\n"
          ]
        }
      ]
    },
    {
      "cell_type": "code",
      "source": [
        "a = 5\n",
        "b = 3\n",
        "c = 5\n",
        "print(a == b) #비교연산자\n",
        "print(a == c)\n",
        "print(a != b)\n",
        "print(a != c)\n",
        "#결과: False True True False"
      ],
      "metadata": {
        "colab": {
          "base_uri": "https://localhost:8080/"
        },
        "id": "4efB5w4JAjKd",
        "outputId": "47dec089-4650-4628-bbed-7ddcc3b71a46"
      },
      "execution_count": null,
      "outputs": [
        {
          "output_type": "stream",
          "name": "stdout",
          "text": [
            "False\n",
            "True\n",
            "True\n",
            "False\n"
          ]
        }
      ]
    },
    {
      "cell_type": "code",
      "source": [
        "\n",
        "a = 5 #서로 값을 교환\n",
        "b = 2\n",
        "print(\"교환 전: \", a, \", \", b)\n",
        "temp = a\n",
        "a = b\n",
        "b = temp\n",
        "print(\"교환 후: \", a , \", \", b)\n",
        "\n",
        "a = a+b\n",
        "b = a-b\n",
        "a = a-b\n",
        "print(a, b)\n"
      ],
      "metadata": {
        "colab": {
          "base_uri": "https://localhost:8080/"
        },
        "id": "2Haq5HcPBN4n",
        "outputId": "af5abe39-6975-4aa2-9a5a-17c2bd185f98"
      },
      "execution_count": null,
      "outputs": [
        {
          "output_type": "stream",
          "name": "stdout",
          "text": [
            "교환 전:  5 ,  2\n",
            "교환 후:  2 ,  5\n",
            "5 2\n"
          ]
        }
      ]
    },
    {
      "cell_type": "code",
      "source": [
        "str = 'hello'"
      ],
      "metadata": {
        "id": "F6MomwDAc4lW"
      },
      "execution_count": null,
      "outputs": []
    },
    {
      "cell_type": "code",
      "source": [
        "print(str)"
      ],
      "metadata": {
        "colab": {
          "base_uri": "https://localhost:8080/"
        },
        "id": "6Ltpl0mxc4rb",
        "outputId": "dd089077-1f22-44dd-c216-f6cc6c279b74"
      },
      "execution_count": null,
      "outputs": [
        {
          "output_type": "stream",
          "name": "stdout",
          "text": [
            "hello\n"
          ]
        }
      ]
    },
    {
      "cell_type": "code",
      "source": [
        "#우리반 학생을 저장(1~10번)\n",
        " #방법 1\n",
        "s1 = '김개똥'\n",
        "s2 = '홍길동' #만약 학생이 100명이라면? 100개의 변수가 필요\n",
        "\n",
        " #방법 2\n",
        "student = ['홍길동', '김개똥', 100] #리스트에 다른 형태의 자료형도 보관 가능(== 굉장히 혜자스러운 점)\n",
        "#하나의 묶음으로 보관 ==> List (다른 언어에서는 배열 array 이라 부름)\n",
        "\n",
        "print(student[0])\n",
        "print(student[1])\n",
        "print(student[2])\n",
        "#배열의 시작 방번호는 항상 0이다 \n",
        "#진수란 한 자리에 몇까지 들어가냐는 것 ==> 한 자리에 9까지 쓰지 10을 쓰지 않음 ==> 10진수란 0~9를 이용해 수를 나타내는 진법임 \n",
        "\n",
        "student.append('이서영') #리스트에 값 추가 == append()\n",
        "print(student[3])\n",
        "\n",
        "#리스트에서 쓸 수 있는 기능들은 어떤게 있을까?\n",
        "#특정항목 삭제\n",
        "student2 = []\n",
        "student2 = student\n",
        "student2.pop(1) #나가는건 pop, 들어오는건 push, 1번방 항목이 삭제된다\n",
        "print(student2)\n",
        "del(student2[2])\n",
        "print(student2)"
      ],
      "metadata": {
        "colab": {
          "base_uri": "https://localhost:8080/"
        },
        "id": "DKjdLS6sdM6s",
        "outputId": "87ff10ca-dce7-4d88-e605-9d4991233fac"
      },
      "execution_count": null,
      "outputs": [
        {
          "output_type": "stream",
          "name": "stdout",
          "text": [
            "홍길동\n",
            "김개똥\n",
            "100\n",
            "이서영\n",
            "['홍길동', 100, '이서영']\n",
            "['홍길동', 100]\n"
          ]
        }
      ]
    },
    {
      "cell_type": "code",
      "source": [
        "# 1번의 이름, 국어, 영어, 정보 성적을 보관\n",
        "# 2번의 이름, 국어, 영어, 정보      \"\n",
        "s1 = ['김개똥', 100, 50, 70]\n",
        "s2 = ['홍길동', 60, 70, 100]\n",
        "\n",
        "cls = [s1, s2] # 리스트 안에 리스트(배열)를 넣을 수 있음 => 2차원 리스트(배열)\n",
        "print(cls)\n",
        "a1 = cls[0] #s1 = 김개똥의 배열\n",
        "print(a1[1]) #김개똥의 국어 점수\n",
        "print(cls[0][1])\n",
        "\n",
        "#배열과 리스트의 차이\n",
        "# 배열 ==> 크기 고정, 변경불가\n",
        "# 리스트 ==> 크기가 변함, 변경 가능"
      ],
      "metadata": {
        "colab": {
          "base_uri": "https://localhost:8080/"
        },
        "id": "aDjl0sO6jEsw",
        "outputId": "e8408a8b-deb9-44dc-90df-0ff25d2ebbd1"
      },
      "execution_count": null,
      "outputs": [
        {
          "output_type": "stream",
          "name": "stdout",
          "text": [
            "[['김개똥', 100, 50, 70], ['홍길동', 60, 70, 100]]\n"
          ]
        }
      ]
    },
    {
      "cell_type": "code",
      "source": [
        "# type(변수) = 변수의 타입(자료의 형태를 출력)\n",
        "print(type(cls)) #cls의 자료형\n",
        "num = 3.14\n",
        "print(type(num))"
      ],
      "metadata": {
        "colab": {
          "base_uri": "https://localhost:8080/"
        },
        "id": "3TzLFq1DltvG",
        "outputId": "04814e1f-0fb0-4a00-d4a8-021411a22139"
      },
      "execution_count": null,
      "outputs": [
        {
          "output_type": "stream",
          "name": "stdout",
          "text": [
            "<class 'list'>\n",
            "<class 'float'>\n"
          ]
        }
      ]
    },
    {
      "cell_type": "code",
      "source": [
        "#사용자 입력\n",
        "# print(안내문자) 또는 input(안내문자)\n",
        "name = input(\"이름을 입력하세요 > \") # 입력하기 기능\n",
        "print(\"hello\", name)\n",
        "\n",
        "print('hello' + name)\n",
        "\n",
        "#포맷팅 print(f\"문자열 {포맷할 변수}\")\n",
        "print(f'Hello {name}') # 'f' 로 시작하는 포맷팅을 이용해서 변수를 안에 표현할 수 있음 "
      ],
      "metadata": {
        "colab": {
          "base_uri": "https://localhost:8080/"
        },
        "id": "Ssser-YXrSDU",
        "outputId": "ff925347-fd49-4999-9dc9-d450396fb0f9"
      },
      "execution_count": null,
      "outputs": [
        {
          "output_type": "stream",
          "name": "stdout",
          "text": [
            "이서영\n",
            "hello 이서영\n"
          ]
        }
      ]
    },
    {
      "cell_type": "code",
      "source": [
        "num = 240+180+330+190+180+520+290+870+220+440+340+570+320+310\n",
        "print(num)"
      ],
      "metadata": {
        "colab": {
          "base_uri": "https://localhost:8080/"
        },
        "id": "9yuvHByMsCAj",
        "outputId": "8113dd13-bc79-4e2f-fd73-cf2b71c1ce3e"
      },
      "execution_count": null,
      "outputs": [
        {
          "output_type": "stream",
          "name": "stdout",
          "text": [
            "5000\n"
          ]
        }
      ]
    },
    {
      "cell_type": "code",
      "source": [
        "#리스트에 관해서... 문자열\n",
        "#String = 문자열\n",
        "str = 'Hello World' #자체가 배열\n",
        "print(str[4]) #['H','e','l','l'....] 형태로 저장되고 있음\n",
        "print(len(str)) #len() 기능은 문자의 길이를 출력\n",
        "\n",
        "list1 = [1,2,3,4,5] #배열의 길이를 알 수 있을까?\n",
        "print(len(list1)) #가능"
      ],
      "metadata": {
        "colab": {
          "base_uri": "https://localhost:8080/"
        },
        "id": "duL043fW71Y3",
        "outputId": "4cf19fde-4ced-4b8f-c584-26a1a3d45709"
      },
      "execution_count": null,
      "outputs": [
        {
          "output_type": "stream",
          "name": "stdout",
          "text": [
            "o\n",
            "11\n",
            "5\n"
          ]
        }
      ]
    },
    {
      "cell_type": "code",
      "source": [
        "#반복문 - 반복된 작업을 쉽게\n",
        "#상황 - 리스트 = [0,0,0,0,0,0,,,,,] => 100칸 생성\n",
        "#만약 반복문을 쓰지 않는다면....\n",
        "# => list = [0,0,0,0,....] 또는\n",
        "# => list = []    list.append(0)...100번\n",
        "\n",
        "# 이런 상황을 타개하기 위해 만들어진게 반복 명령어(for, while)\n",
        "# for = 제한된 횟수 만큼 반복\n",
        "# k = 반복하면서 사용할 변수\n",
        "for k in range(10): #range(범위)  0~(범위-1) 까지\n",
        "                    #range(시작범위, 끝범위)  시작범위부터 (끝범위-1) 까지\n",
        "# ' : ' 표시는 중괄호 시작이랑 같은 뜻\n",
        "  #안에 들여쓰기 함 \n",
        "  print(k) # k는 0~9까지 변신\n",
        "  print('반복중')"
      ],
      "metadata": {
        "colab": {
          "base_uri": "https://localhost:8080/"
        },
        "id": "rdBHo3sm-tkG",
        "outputId": "f9e9bfad-2e93-4608-88da-50f3eabae110"
      },
      "execution_count": null,
      "outputs": [
        {
          "output_type": "stream",
          "name": "stdout",
          "text": [
            "0\n",
            "반복중\n",
            "1\n",
            "반복중\n",
            "2\n",
            "반복중\n",
            "3\n",
            "반복중\n",
            "4\n",
            "반복중\n",
            "5\n",
            "반복중\n",
            "6\n",
            "반복중\n",
            "7\n",
            "반복중\n",
            "8\n",
            "반복중\n",
            "9\n",
            "반복중\n"
          ]
        }
      ]
    },
    {
      "cell_type": "code",
      "source": [
        "#리스트 배열을 만들고 [0,2,4,6...] 순서로 100개의 값을 초기화\n",
        "#배열의 항목을 추가하는 명령어 append()\n",
        "\n",
        "#방법 1\n",
        "list = []\n",
        "for n in range(100):\n",
        "  list.append(n*2)\n",
        "print(list)\n",
        "#print(len(list))\n",
        "\n",
        "#방법 2\n",
        "list2 = []\n",
        "for n in range(0, 200, 2): #0부터 200까지 2씩 커짐\n",
        "  list2.append(n)\n",
        "print(list2)\n",
        "print(len(list2))"
      ],
      "metadata": {
        "colab": {
          "base_uri": "https://localhost:8080/"
        },
        "id": "VEW3JX4l_qR2",
        "outputId": "ee98192b-fe1f-4de1-847e-0eb02ace307b"
      },
      "execution_count": null,
      "outputs": [
        {
          "output_type": "stream",
          "name": "stdout",
          "text": [
            "[0, 2, 4, 6, 8, 10, 12, 14, 16, 18, 20, 22, 24, 26, 28, 30, 32, 34, 36, 38, 40, 42, 44, 46, 48, 50, 52, 54, 56, 58, 60, 62, 64, 66, 68, 70, 72, 74, 76, 78, 80, 82, 84, 86, 88, 90, 92, 94, 96, 98, 100, 102, 104, 106, 108, 110, 112, 114, 116, 118, 120, 122, 124, 126, 128, 130, 132, 134, 136, 138, 140, 142, 144, 146, 148, 150, 152, 154, 156, 158, 160, 162, 164, 166, 168, 170, 172, 174, 176, 178, 180, 182, 184, 186, 188, 190, 192, 194, 196, 198]\n",
            "[0, 2, 4, 6, 8, 10, 12, 14, 16, 18, 20, 22, 24, 26, 28, 30, 32, 34, 36, 38, 40, 42, 44, 46, 48, 50, 52, 54, 56, 58, 60, 62, 64, 66, 68, 70, 72, 74, 76, 78, 80, 82, 84, 86, 88, 90, 92, 94, 96, 98, 100, 102, 104, 106, 108, 110, 112, 114, 116, 118, 120, 122, 124, 126, 128, 130, 132, 134, 136, 138, 140, 142, 144, 146, 148, 150, 152, 154, 156, 158, 160, 162, 164, 166, 168, 170, 172, 174, 176, 178, 180, 182, 184, 186, 188, 190, 192, 194, 196, 198]\n",
            "100\n"
          ]
        }
      ]
    },
    {
      "cell_type": "code",
      "source": [
        "#for문은 반복문 => 똑같은 작업을 할 수 있도록 횟수를 지정하는 반복문\n",
        "n = input('숫자를 입력하세요 > ')\n",
        "print(n*3) #input()으로 받은 값은 문자로 처리됨\n",
        "k = int(n)\n",
        "print(k*3)\n",
        "# 또는 n = int(input())"
      ],
      "metadata": {
        "id": "Wtx1HzPwBdr9",
        "colab": {
          "base_uri": "https://localhost:8080/"
        },
        "outputId": "f6a3da55-6e98-4ef4-a7cf-9cc548043f01"
      },
      "execution_count": null,
      "outputs": [
        {
          "output_type": "stream",
          "name": "stdout",
          "text": [
            "숫자를 입력하세요 > 3\n",
            "333\n",
            "9\n"
          ]
        }
      ]
    },
    {
      "cell_type": "code",
      "source": [
        "#입력하는 단의 구구단 출력\n",
        "# 예)   3 입력 => 3*1 = 3.... 3*9 = 27\n",
        "n = int(input())\n",
        "for i in range(1, 10):  #1~10 전까지 = 1~9    #콜론 \":\" 붙이도록\n",
        "  # 반복할 작업은 탭만큼 들여써서 작성\n",
        "  print(f\"{n} * {i} = {n*i}\") # {}는 안에 있는 변수의 값을 출력\n",
        "print(\"-end-\")"
      ],
      "metadata": {
        "colab": {
          "base_uri": "https://localhost:8080/"
        },
        "id": "RGZPOo5XfK3N",
        "outputId": "6a607ce6-44ec-4a7b-d228-0c862faa54eb"
      },
      "execution_count": null,
      "outputs": [
        {
          "output_type": "stream",
          "name": "stdout",
          "text": [
            "3\n",
            "3 * 1 = 3\n",
            "3 * 2 = 6\n",
            "3 * 3 = 9\n",
            "3 * 4 = 12\n",
            "3 * 5 = 15\n",
            "3 * 6 = 18\n",
            "3 * 7 = 21\n",
            "3 * 8 = 24\n",
            "3 * 9 = 27\n",
            "-end-\n"
          ]
        }
      ]
    },
    {
      "cell_type": "code",
      "source": [
        "# 1~ 입력수 n 까지 369게임\n",
        "# 3, 6, 9에는 대문자 X를 출력\n",
        "# 그리고 숫자마다 공백\n",
        "\n",
        "# 0. 사용자 입력을 숫자로 받기\n",
        "# 1. 1부터 입력수까지 출력 => for문 필요\n",
        "# 2. 3, 6, 9 를 판별하여 X로 변환\n",
        "\n",
        "# 나머지 연산자 알기\n",
        "n = int(input(\"어디까지 할까요? > \"))\n",
        "#1부터 n까지 나옴\n",
        "for i in range(1, n+1):\n",
        "  if i % 3 == 0:\n",
        "    print(\"X\" , end = \" \")\n",
        "  else:\n",
        "    print(i, end = \" \")\n",
        "\n",
        "#if문 \n",
        "# if 조건 :   => 참인지 판단\n",
        "# 참이라면 수행할 내용\n",
        "# if n이 3이랑 같은가?\n",
        "if n == 3:    # = 등호를 하나만 쓰면 복사,  == 는 같은지 비교하는 것\n",
        "  #들여쓰기 조심\n",
        "  print(\"True\")\n",
        "else:   # 그 밖에, if와 같이 사용됨. if는 혼자 쓸 수 있지만, else는 혼자 사용 불가\n",
        "  #들여쓰기 조심\n",
        "  print(\"False\")\n"
      ],
      "metadata": {
        "colab": {
          "base_uri": "https://localhost:8080/"
        },
        "id": "bTr2IeaWtGDe",
        "outputId": "2c9e4b74-0d66-495d-dc16-aaf3ec9bc015"
      },
      "execution_count": null,
      "outputs": [
        {
          "output_type": "stream",
          "name": "stdout",
          "text": [
            "어디까지 할까요? > 10\n",
            "--start--\n",
            "1 2 X 4 5 X 7 8 X 10 False\n"
          ]
        }
      ]
    },
    {
      "cell_type": "code",
      "source": [
        "# OR 연산자, AND 연산자\n",
        "n = int(input(\"어디까지 할까요? > \"))\n",
        "\n",
        "for i in range(1, n+1):\n",
        "  # or => 조건 중에 하나라도 참이면 참\n",
        "  # and => 조건이 전부 참이어야 참\n",
        "  if i == 3 or i == 6 or i == 9:\n",
        "    print(\"X\" , end= \" \")\n",
        "  else:\n",
        "    print(i, end = \" \")"
      ],
      "metadata": {
        "colab": {
          "base_uri": "https://localhost:8080/"
        },
        "id": "zBPnk7CIy7eT",
        "outputId": "070843c2-08bd-49e4-9d62-e64cf4134e5a"
      },
      "execution_count": null,
      "outputs": [
        {
          "output_type": "stream",
          "name": "stdout",
          "text": [
            "어디까지 할까요? > 87\n",
            "1 2 X 4 5 X 7 8 X 10 11 12 13 14 15 16 17 18 19 20 21 22 23 24 25 26 27 28 29 30 31 32 33 34 35 36 37 38 39 40 41 42 43 44 45 46 47 48 49 50 51 52 53 54 55 56 57 58 59 60 61 62 63 64 65 66 67 68 69 70 71 72 73 74 75 76 77 78 79 80 81 82 83 84 85 86 87 "
          ]
        }
      ]
    },
    {
      "cell_type": "code",
      "source": [
        "# if문 복습 for문과 연계\n",
        "# if = 조건 검사 = 만약 조건이 참이면 수행할 내용 작성\n",
        "a = 4\n",
        "# a가 5보다 크다면 \"큰 수\" 출력\n",
        "if a > 5:   # 콜론 표시 주의\n",
        "  # 콜론 다음에는 들여쓰기(탭)\n",
        "  print(\"큰 수\")\n",
        "  print(\"입니다.\")\n",
        "\n",
        "## 차이점\n",
        "# a가 5보다 크다면 \"큰 수\" 출력\n",
        "if a > 5:   # 콜론 표시 주의\n",
        "  # 콜론 다음에는 들여쓰기(탭)\n",
        "  print(\"큰 수\")\n",
        "print(\"입니다.\")\n",
        "\n",
        "if a > 5:\n",
        "  print(\"큰 수\")\n",
        "else:   #else = '그 밖에' / 참이 아닌 경우는 전부 이쪽으로 오게 됨\n",
        "  print(\"작은 수\")"
      ],
      "metadata": {
        "colab": {
          "base_uri": "https://localhost:8080/"
        },
        "id": "SgHPHz4cD8IX",
        "outputId": "6c67e651-25d4-424f-c3e7-fb10b45f4e6c"
      },
      "execution_count": null,
      "outputs": [
        {
          "output_type": "stream",
          "name": "stdout",
          "text": [
            "입니다.\n"
          ]
        }
      ]
    },
    {
      "cell_type": "code",
      "source": [
        "# 숫자 맞추기 게임\n",
        "# 내가 생각한 숫자 맞추기\n",
        "# 10번의 기회동안 숫자를 맞춤\n",
        "# 10번의 기회 => 10번동안 입력을 받음\n",
        "# 10번동안 => 10번 반복 => for문 필요\n",
        "# 입력받음 => input() 필요\n",
        "# 내가 입력한 숫자가 맞는지 검사(만약 일치하나?) =? if문 필요\n",
        "# 10번 반복할 동안 검사를 매번 수행 => for문 안에서 입력 & 검사'\n",
        "ans = 10\n",
        "for i in range(10):\n",
        "  a = int(input(\"내가 생각한 숫자는? > \"))\n",
        "  if a == ans:\n",
        "    print(\"정답\")\n",
        "  else:\n",
        "    if a > ans:\n",
        "      print(\"Down\")\n",
        "    else:\n",
        "      print(\"UP\")\n"
      ],
      "metadata": {
        "id": "Gt5WSQ6VIv1h"
      },
      "execution_count": null,
      "outputs": []
    },
    {
      "cell_type": "code",
      "source": [
        "import random\n",
        "\n",
        "ans = random.randint(1, 100)  # 랜덤 숫자 뽑기\n",
        "\n",
        "for i in range(10):\n",
        "  print(\"1~100 까지의 숫자 중, 컴퓨터가 생각한 숫자는?\")\n",
        "  a = int(input(f\"{i+1}번째 기회 > \"))\n",
        "  if a < ans:\n",
        "    print(\"UP\")\n",
        "  elif a > ans:\n",
        "    print(\"Down\")\n",
        "  else:\n",
        "    print(\"정답!\")\n",
        "    break\n",
        "\n",
        "print(\"end\")"
      ],
      "metadata": {
        "colab": {
          "base_uri": "https://localhost:8080/"
        },
        "id": "jF35-IbfFjtw",
        "outputId": "4dcc855a-59a8-4cb3-d1b7-355bb76db9fe"
      },
      "execution_count": null,
      "outputs": [
        {
          "output_type": "stream",
          "name": "stdout",
          "text": [
            "1~100 까지의 숫자 중, 내가 생각한 숫자는?\n",
            "1번째 기회 > 50\n",
            "UP\n",
            "1~100 까지의 숫자 중, 내가 생각한 숫자는?\n",
            "2번째 기회 > 70\n",
            "UP\n",
            "1~100 까지의 숫자 중, 내가 생각한 숫자는?\n",
            "3번째 기회 > 90\n",
            "Down\n",
            "1~100 까지의 숫자 중, 내가 생각한 숫자는?\n",
            "4번째 기회 > 85\n",
            "정답!\n",
            "end\n"
          ]
        }
      ]
    },
    {
      "cell_type": "code",
      "source": [
        "# 선생님 왈, 너희는 관람객이 아니다. 이해를 했어도 직접 해봐야 느는 것이다. 앉아서 구경만 말고 해봐라\n",
        "#짝수 합 구하기\n",
        "a = int(input(\"> \"))\n",
        "to = 0\n",
        "for i in range(a+1):\n",
        "  if i % 2 == 0:\n",
        "    to += i\n",
        "print(to)\n",
        "\n",
        "# 숫자 입력받기 기능 -> n\n",
        "# 1부터 n까지 반복 -> for ~~ :\n",
        "# 반복하면서 나오는 숫자가 짝수인지 판별 -> %2 == 0?\n",
        "# 합 구하기 -> 합을 보관하는 변수 sum을 만들자\n",
        "# sum 변수를 누적해서 저장\n",
        "\n",
        "# 또 다른 방법\n",
        "n = int(input(\"> \"))\n",
        "sum = 0  # 합계\n",
        "for k in range(2, n+1, 2):\n",
        "    sum = sum + k\n",
        "print(sum)\n",
        "\n",
        "# 또또 다른 방법\n",
        "n = int(input(\"> \"))\n",
        "sum = 0\n",
        "if n % 2 != 0:\n",
        "  n = n-1 #n을 마지막 짝수로 만듦\n",
        "  mid = int(n / 2) + 1\n",
        "elif (int(n / 2)) % 2 == 0:\n",
        "   mid = 0 #중간값\n",
        "else:\n",
        "  mid = int(n / 2)\n",
        "  \n",
        "sum = ((n+2) * int(n/4)) + mid \n",
        "print(sum)\n"
      ],
      "metadata": {
        "colab": {
          "base_uri": "https://localhost:8080/"
        },
        "id": "K4czg3ACNVjy",
        "outputId": "21bd0c67-6c8d-410d-dcd6-b90a16ce1179"
      },
      "execution_count": null,
      "outputs": [
        {
          "output_type": "stream",
          "name": "stdout",
          "text": [
            "> 30\n",
            "240\n",
            "> 30\n",
            "240\n",
            "> 30\n",
            "240\n"
          ]
        }
      ]
    },
    {
      "cell_type": "code",
      "source": [
        "import random\n",
        "# 가위 바위 보\n",
        "# 가위 = 1, 바위 = 2, 보 = 3\n",
        "me = int(input(\"뭐 할래? 1, 2, 3 > \"))\n",
        "com = random.randint(1, 3)\n",
        "\n",
        "res_n = (me - com) % 3  # com - me == -2 or 1 -> -2+3 % 3 == 1, 1+3 % 3 == 1\n",
        "res_s = \"\"\n",
        "# 나와 컴을 비교해서 승, 패, 무승부 출력\n",
        "if res_n == 1: # 승리\n",
        "  res_s = \"승리\"\n",
        "elif res_n == 0:  # 무승부\n",
        "  res_s = \"무승부\"\n",
        "else: #패배\n",
        "  res_s = \"패배\"\n",
        "\n",
        "if me == 1:\n",
        "  me = \"가위\"\n",
        "elif me == 2:\n",
        "  me = \"바위\"\n",
        "else:\n",
        "  me = \"보\"\n",
        "\n",
        "if com == 1:\n",
        "  com = \"가위\"\n",
        "elif com == 2:\n",
        "  com = \"바위\"\n",
        "else:\n",
        "  com = \"보\"\n",
        "\n",
        "print(f\"me : {me} , com : {com}!\")\n",
        "print(f\"{res_s}\")"
      ],
      "metadata": {
        "id": "O-1ByDqqL3Ca",
        "colab": {
          "base_uri": "https://localhost:8080/"
        },
        "outputId": "19e770ac-3270-453e-c5eb-e00518b9a519"
      },
      "execution_count": null,
      "outputs": [
        {
          "output_type": "stream",
          "name": "stdout",
          "text": [
            "뭐 할래? 1, 2, 3 > 3\n",
            "me : 보 , com : 바위!\n",
            "승리\n",
            "1\n"
          ]
        }
      ]
    },
    {
      "cell_type": "code",
      "source": [
        "# 1이 입력되면 0, 0이 입력되면 1 출력\n",
        "if input(\"1 또는 0 입력 > \") == '1':\n",
        "  print(0)\n",
        "else:\n",
        "  print(1)\n",
        "\n",
        "n = int(input())\n",
        "print(1-n)"
      ],
      "metadata": {
        "colab": {
          "base_uri": "https://localhost:8080/"
        },
        "id": "iO0fP6k-DBOx",
        "outputId": "f040542b-3f1e-4881-e248-5921806abd93"
      },
      "execution_count": null,
      "outputs": [
        {
          "output_type": "stream",
          "name": "stdout",
          "text": [
            "1 또는 0 입력 > 0\n",
            "1\n",
            "0\n",
            "1\n"
          ]
        }
      ]
    },
    {
      "cell_type": "code",
      "source": [
        "# for문과 배열을 섞어보자\n",
        "# 배열 = 리스트 -> 변수의 집합 -> 여러개의 변수를 묶어서 보관\n",
        "# 어떻게 안에 있는 자료를 접근할 수 있을까? => 주소\n",
        "\n",
        "lt = [] # 빈 리스트 만들기\n",
        "\n",
        "# 리스트 관련 명령어 알기\n",
        "# lt. -> 점을 찍으면 사용할 수 있는 명령어가 나옴\n",
        "\n",
        "lt.append(1) # 뒤에 추가\n",
        "lt.append(10)\n",
        "lt.insert(1, 5) # (번지, 추가할 값), 리스트는 0번지 부터 출발\n",
        "lt.insert(0, 20) # [20, 1, 5, 10]\n",
        "\n",
        "# 1번지에 있는 1을 삭제\n",
        "lt.remove(1) # 삭제할때는 주소번지만 이용해서 삭제\n",
        "\n",
        "print(lt)"
      ],
      "metadata": {
        "colab": {
          "base_uri": "https://localhost:8080/"
        },
        "id": "ez9ARhatGZYo",
        "outputId": "9ecd7b35-052a-458d-d9ef-16e7e21da72b"
      },
      "execution_count": null,
      "outputs": [
        {
          "output_type": "stream",
          "name": "stdout",
          "text": [
            "[20, 5, 10]\n"
          ]
        }
      ]
    },
    {
      "cell_type": "code",
      "source": [
        "# [0, 10, 20, 30, 40 ... 1000] 인 배열 만들기\n",
        "# 0번지 0, 1번지 10, 2번지 20, 3번지 30 ... n번지 n*10\n",
        "a = []\n",
        "# for 변수 in 범위(리스트, range() 등등)\n",
        "for i in range(101):\n",
        "  a.append(i*10)\n",
        "print(a)\n",
        "\n",
        "pos = a.index(40)  # 값을 찾아보고 있으면 해당 번지 출력, 없으면 오류 출력\n",
        "print(pos)\n",
        "\n",
        "arr_str = \"hello world\" # 문자열도 리스트로 다룰 수 있음\n",
        "print(arr_str[6])\n",
        "print(arr_str.index(\"w\"))\n",
        "# 문자열에서는 find 명령어도 사용할 수 있음\n",
        "print(arr_str.find(\"w\"))\n",
        "# find는 찾지 못하면 오류대신 -1을 출력\n",
        "print(arr_str.find(\"t\"))\n"
      ],
      "metadata": {
        "colab": {
          "base_uri": "https://localhost:8080/"
        },
        "id": "mmC4kWgtIWRv",
        "outputId": "f55cd5a9-8dc1-4ca1-d0be-39bf59a24900"
      },
      "execution_count": null,
      "outputs": [
        {
          "output_type": "stream",
          "name": "stdout",
          "text": [
            "[0, 10, 20, 30, 40, 50, 60, 70, 80, 90, 100, 110, 120, 130, 140, 150, 160, 170, 180, 190, 200, 210, 220, 230, 240, 250, 260, 270, 280, 290, 300, 310, 320, 330, 340, 350, 360, 370, 380, 390, 400, 410, 420, 430, 440, 450, 460, 470, 480, 490, 500, 510, 520, 530, 540, 550, 560, 570, 580, 590, 600, 610, 620, 630, 640, 650, 660, 670, 680, 690, 700, 710, 720, 730, 740, 750, 760, 770, 780, 790, 800, 810, 820, 830, 840, 850, 860, 870, 880, 890, 900, 910, 920, 930, 940, 950, 960, 970, 980, 990, 1000]\n",
            "4\n",
            "w\n",
            "6\n",
            "6\n",
            "-1\n"
          ]
        }
      ]
    },
    {
      "cell_type": "code",
      "source": [
        "# 리스트에서 index를 쓰지 않고 해당 위치 반환\n",
        "a = [1, 2, 3, 4, 3, 3, 7] # 크기 고정\n",
        "find = int(input())\n",
        "\n",
        "# index(차례) 함수 기능 구현\n",
        "## 내 풀이\n",
        "b = False\n",
        "for i in range(len(a)):\n",
        "  if find == a[i]:\n",
        "    print(i)\n",
        "    b = True\n",
        "    break\n",
        "if b != True:\n",
        "  print(-1)\n",
        "\n",
        "\n",
        "## 쌤 풀이\n",
        "size = len(a) # a 배열의 길이     # a.length 아님..(이건 자바)\n",
        "find = int(input())\n",
        "\n",
        "# for문 이용 => a의 크기 만큼 반복 검사\n",
        "for i in range(size):\n",
        "  # a[i]야, find랑 같니? \n",
        "  if a[i] == find:\n",
        "    print(i)\n",
        "    break\n",
        "\n",
        "\n",
        "## print(find -1) # 얜 그냥 같은 결과 출력\n",
        "\n",
        "## 결과 ##\n",
        "# 4(데이터) 입력 => 3(번지) 출력\n"
      ],
      "metadata": {
        "colab": {
          "base_uri": "https://localhost:8080/"
        },
        "id": "BQhgNfPsMEkG",
        "outputId": "8f9bf6d7-1cc1-482e-bfa2-0ce1e9c9d9a5"
      },
      "execution_count": null,
      "outputs": [
        {
          "name": "stdout",
          "output_type": "stream",
          "text": [
            "3\n",
            "2\n",
            "3\n",
            "2\n",
            "3\n"
          ]
        }
      ]
    },
    {
      "cell_type": "code",
      "source": [
        "# 마지막부터 값 찾기\n",
        "# 힌트  range()의 활용\n",
        "a = [1, 2, 3, 4, 3, 3, 7] \n",
        "find = int(input())\n",
        "\n",
        "## 내 풀이\n",
        "# range([start, ]stop[, step])\n",
        "for i in range(len(a)-1, -1, -1):\n",
        "  if a[i] == find:\n",
        "    print(\"1\", i)\n",
        "    break\n",
        "\n",
        "## 쌤 풀이\n",
        "size = len(a)\n",
        "# range(5) 0~4까지\n",
        "# range(1, 5) 1~4까지\n",
        "# range(1, 10, 2) 1~9 2씩 증가까지\n",
        "# 10부터 0까지 1씩 감소 => range(10, 0, -1)\n",
        "for k in range(size-1, -1, -1):\n",
        "  if a[k] == find:\n",
        "    print(\"2\", k)\n",
        "    break\n",
        "\n",
        "for i in range(size):\n",
        "  # 0번지 => 9 만들기\n",
        "  idx = size-i-1  # k=0일때 10-1-k => 9-0 = 9번지 찾기\n",
        "  if a[idx] == find:\n",
        "    print(\"3\", idx)\n",
        "    break\n",
        "\n",
        "# 3번을 while로 구현\n",
        "while size >= 0:\n",
        "  if a[size-1] == find:\n",
        "    print(\"4\", size-1)\n",
        "    break\n",
        "  size -= 1\n",
        "  "
      ],
      "metadata": {
        "colab": {
          "base_uri": "https://localhost:8080/"
        },
        "id": "rBRmV3_Lm2AU",
        "outputId": "fa88004e-fe79-4380-dd84-dc05dfedae89"
      },
      "execution_count": null,
      "outputs": [
        {
          "output_type": "stream",
          "name": "stdout",
          "text": [
            "3\n",
            "1 5\n",
            "2 5\n",
            "3 5\n",
            "4 5\n"
          ]
        }
      ]
    },
    {
      "cell_type": "code",
      "source": [
        "#n = [1,3,5,7,9,11,13,15,17,19]\n",
        "n = ['jan','feb', 'mar', 'apr', 'may', 'june', 'july', 'agu', 'ste', 'oct', 'nob', 'dis']\n",
        "# range(10) = [0,1,2,3,4,5,6,7,8,9]\n",
        "for k in n: #in 다음에는 range만 가능한게 아님. 범위를 가지고 있는 것을 쓰면 됨\n",
        "  print(k)"
      ],
      "metadata": {
        "colab": {
          "base_uri": "https://localhost:8080/"
        },
        "id": "pIQwaRMwzt0-",
        "outputId": "38d61ca4-a922-4ef8-e67a-5c8fd4299c3b"
      },
      "execution_count": null,
      "outputs": [
        {
          "output_type": "stream",
          "name": "stdout",
          "text": [
            "jan\n",
            "feb\n",
            "mar\n",
            "apr\n",
            "may\n",
            "june\n",
            "july\n",
            "agu\n",
            "ste\n",
            "oct\n",
            "nob\n",
            "dis\n"
          ]
        }
      ]
    },
    {
      "cell_type": "code",
      "source": [
        "# 반복문\n",
        "\n",
        "# 조건이 참인 동안 반복\n",
        "k = 0\n",
        "while k < 5:\n",
        "  print(k)\n",
        "  k += 1\n",
        "print('bye bye')\n",
        "print(k)"
      ],
      "metadata": {
        "colab": {
          "base_uri": "https://localhost:8080/"
        },
        "id": "-bONqI0Y2a8T",
        "outputId": "b1968b6d-650d-4292-cfd2-0a82bee59d18"
      },
      "execution_count": null,
      "outputs": [
        {
          "output_type": "stream",
          "name": "stdout",
          "text": [
            "0\n",
            "1\n",
            "2\n",
            "3\n",
            "4\n",
            "bye bye\n",
            "5\n"
          ]
        }
      ]
    },
    {
      "cell_type": "code",
      "source": [
        "# 패스워드 검사   비번이 맞을 때 까지 반복\n",
        "\n",
        "# 비번이 틀렸을 때 반복 == pw와 my가 같을 때 반복 == 비번이 맞으면 반복 종료\n",
        "pw = '1234' #문자 1234\n",
        "my = input('패스워드를 입력하세요 > ')\n",
        "while my != pw: # !는 부정의 의미\n",
        "  my = input('패스워드를 입력하세요 > ')\n",
        "\n",
        "print(\"Welcome\")\n",
        "\n",
        "\n",
        "# 개선된 버전\n",
        "\n",
        "# 무조건 반복하다가 조건이 맞으면 탈출(break)\n",
        "# 파이썬엔 do - while문이 없음\n",
        "# True는 참을, False는 거짓을 뜻함 => 대소문자 주의\n",
        "while True:\n",
        "  my = input(\"비번 입력 > \")\n",
        "  if my == pw: break\n",
        "print(\"Welcome\")\n",
        "\n",
        "# for와 while의 차이점\n",
        "# for는 범위 안에서 반복,   while은 될때까지 반복"
      ],
      "metadata": {
        "colab": {
          "base_uri": "https://localhost:8080/"
        },
        "id": "Gq7nbQCj3K5s",
        "outputId": "4b061521-4343-461d-fbfe-35d603b90f02"
      },
      "execution_count": null,
      "outputs": [
        {
          "output_type": "stream",
          "name": "stdout",
          "text": [
            "패스워드를 입력하세요 > 1234\n",
            "Welcome\n",
            "비번 입력 > 1234\n",
            "Welcome\n"
          ]
        }
      ]
    },
    {
      "cell_type": "code",
      "source": [
        "#code.juwon.info 1134문제\n",
        "\n",
        "target = input(\"찾을 글자를 입력 하세요 -KTX \")\n",
        "src = input(\"문자열을 입력하세요 -KINTEX \")\n",
        "\n",
        "t_pos = 0\n",
        "#print(target[0]) #문자열도 리스트\n",
        "'''\n",
        "for s in src:\n",
        "  # KINTEX의 K == KTX[0]인 K와 같은지 비교\n",
        "  if s == target[t_pos]:\n",
        "    # 만약 글자를 찾으면 target의 다음 글자 비교\n",
        "    t_pos += 1\n",
        "    #글자 수 만큼 다 찾으면 반복문 나오기\n",
        "    if len(target)-1 == t_pos:\n",
        "      print(\"Y\")\n",
        "      break\n",
        "'''\n",
        "\n",
        "for i in src:\n",
        "  if i == target[t_pos]:\n",
        "    t_pos += 1\n",
        "    if t_pos == len(target):\n",
        "      print(\"Y\")\n",
        "      break\n",
        "if t_pos < len(target):\n",
        "  print(\"N\")\n",
        "  # 틀림 80%\n",
        "    \n",
        "\n",
        "\n",
        "\n",
        "\n",
        "\n",
        "\n",
        "\n"
      ],
      "metadata": {
        "id": "L3RxVlzoM35S",
        "colab": {
          "base_uri": "https://localhost:8080/"
        },
        "outputId": "2c9be334-0ac4-4a84-c04d-db52a2da409c"
      },
      "execution_count": null,
      "outputs": [
        {
          "output_type": "stream",
          "name": "stdout",
          "text": [
            "10\n",
            "9\n",
            "8\n",
            "7\n",
            "6\n",
            "5\n",
            "4\n",
            "3\n",
            "2\n",
            "1\n",
            "0\n"
          ]
        }
      ]
    },
    {
      "cell_type": "markdown",
      "source": [
        "값을 보관하기\n",
        "- 변수를 사용\n",
        "  a = 1 <= 오른쪽에서 왼쪽으로 복사\n",
        "  저장되는 것에 종류가 있을까? = 자료형(숫자, 문자, 참/거짓...), 파이썬은 자료의 형태를 지정하지 않음\n",
        "\n",
        "- 만약, 24명의 학생을 보관하려고 함. 변수가 몇개 필요하지? => 24개 필요 => 너무 많음 => 한번에 관리할 수 없을까?\n",
        "  - 리스트 : 변수들의 집합, 모임(리스트(배열)..., 튜플, 딕셔너리, 집합)\n",
        "  - 사용법 : 주소가 있음(0번지부터 시작)\n",
        "  - a[0] = 1 # 리스트의 0번지에 1을 저장\n",
        "  - 번지에 꼭 숫자가 들어가야 할까? => 아니다. => 변수가 들어갈 수 있음(숫자인 변수)\n",
        "  - arr = 1, lt[arr] = 1 # == lt[1] = 1\n",
        "lt 리스트의 1번지에 1이 들어감\n",
        "  - 리스트의 크기는 변함. 항목을 추가할 수도 있고, 뺄 수도 있음.\n",
        "  - 항목을 추가하는 함수는 append, remove\n",
        "\n",
        "기능 사용하기\n",
        "- 파이썬에서 만든 기능을 사용\n",
        "- 명령어()\n",
        "- ex> print(), append(), len(), remove(), input(), int()...\n",
        "- 기능을 만들어서 사용할 수 있음. def: \n",
        "- print, print() 은 다른 말\n",
        "\n",
        "\n",
        "문법\n",
        "- 반복문 : 같은 작업을 여러번 반복시키는 명령어\n",
        "  - for : 일정 범위 만큼 반복\n",
        "    - ex> 10번 반복해 (X) => 0~9만큼 반복해(O)\n",
        "    - for 사용할 변수 in range(10): # 사용할 변수에 0~9까지 적용\n",
        "      - range() 의 활용\n",
        "        - range(10) : 0 ~ 9, range(5, 10) : 5 ~ 9, range(3,10,2) : 3 ~ 9, 2씩 증가\n",
        "        - range(10, -1, -1) # 10, 0, 1씩 감소(-1씩 증가) => for i in range(10, -1, -1):\n",
        "  print(i)\n",
        "  ==> 10 9 8 7 6 5 4 3 2 1 0\n",
        "  - \" : \" 다음 줄 들여쓰기 조심\n",
        "  \n",
        "  - while : 조건이 참일 동안 계속 반복\n",
        "- 제어문"
      ],
      "metadata": {
        "id": "3knRCAZjvrri"
      }
    },
    {
      "cell_type": "code",
      "source": [
        "# 리스트와 for를 사용해보자.\n",
        "# 리스트를 만드는데 [0, 1, 2, 3, 4] 가 보관된 리스트 만들기\n",
        "\n",
        "lt = [] # 아무것도 없는 리스트 .append()를 이용해 추가\n",
        "'''\n",
        "for k in range(5): # k에는 0~4까지 보관\n",
        "  # 들여쓰기 조심\n",
        "  lt.append(k)\n",
        "'''\n",
        "\n",
        "size = int(input(\"크기를 입력하세요 > \"))\n",
        "\n",
        "for k in range(size) :\n",
        "  lt.append(k)\n",
        "print(lt)"
      ],
      "metadata": {
        "colab": {
          "base_uri": "https://localhost:8080/"
        },
        "id": "P4QpdaQC5i8i",
        "outputId": "b7b5e32f-e34f-4c11-e106-30203d0cc974"
      },
      "execution_count": null,
      "outputs": [
        {
          "output_type": "stream",
          "name": "stdout",
          "text": [
            "크기를 입력하세요 > 6\n",
            "[0, 1, 2, 3, 4, 5]\n"
          ]
        }
      ]
    },
    {
      "cell_type": "code",
      "source": [
        "ans = ''\n",
        "while ans != 'Q':\n",
        "  ans = input(\"Q를 입력하면 종료합니다.\")"
      ],
      "metadata": {
        "colab": {
          "base_uri": "https://localhost:8080/"
        },
        "id": "jlYCPiQSIZK1",
        "outputId": "fe7f2214-8730-4920-90c0-d895c00935dc"
      },
      "execution_count": 9,
      "outputs": [
        {
          "name": "stdout",
          "output_type": "stream",
          "text": [
            "Q를 입력하면 종료합니다.\n",
            "Q를 입력하면 종료합니다.Q\n"
          ]
        }
      ]
    },
    {
      "cell_type": "code",
      "source": [
        "# 숫자 하나를 입력받고, 그 숫자부터 1까지 출력. 단 while문 사용\n",
        "n = int(input(\"숫자 하나를 입력하세요 \"))\n",
        "while n > 0:\n",
        "  print(n)\n",
        "  n -= 1"
      ],
      "metadata": {
        "colab": {
          "base_uri": "https://localhost:8080/"
        },
        "id": "9I0wzBkxLyP-",
        "outputId": "464b2be8-7626-49aa-ccc1-587e93b146f9"
      },
      "execution_count": 13,
      "outputs": [
        {
          "output_type": "stream",
          "name": "stdout",
          "text": [
            "숫자 하나를 입력하세요.10\n",
            "10\n",
            "9\n",
            "8\n",
            "7\n",
            "6\n",
            "5\n",
            "4\n",
            "3\n",
            "2\n",
            "1\n"
          ]
        }
      ]
    },
    {
      "cell_type": "code",
      "source": [
        "# 숫자를 하나 입력 받아서 입력수~100까지 반복\n",
        "n = int(input(\"숫자 하나를 입력하세요 \"))\n",
        "while n < 101:\n",
        "  print(n)\n",
        "  n += 1"
      ],
      "metadata": {
        "colab": {
          "base_uri": "https://localhost:8080/"
        },
        "id": "fQQnyC9-O_eV",
        "outputId": "db127d07-fc70-46f6-80c7-2a8423ae16fc"
      },
      "execution_count": 17,
      "outputs": [
        {
          "output_type": "stream",
          "name": "stdout",
          "text": [
            "숫자 하나를 입력하세요 90\n",
            "90\n",
            "91\n",
            "92\n",
            "93\n",
            "94\n",
            "95\n",
            "96\n",
            "97\n",
            "98\n",
            "99\n",
            "100\n"
          ]
        }
      ]
    }
  ]
}