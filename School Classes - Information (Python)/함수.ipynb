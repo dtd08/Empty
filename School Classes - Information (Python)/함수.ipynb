{
  "nbformat": 4,
  "nbformat_minor": 0,
  "metadata": {
    "colab": {
      "provenance": [],
      "authorship_tag": "ABX9TyM7kE3Eh+i7wPF+yAk6VH1j",
      "include_colab_link": true
    },
    "kernelspec": {
      "name": "python3",
      "display_name": "Python 3"
    },
    "language_info": {
      "name": "python"
    }
  },
  "cells": [
    {
      "cell_type": "markdown",
      "metadata": {
        "id": "view-in-github",
        "colab_type": "text"
      },
      "source": [
        "<a href=\"https://colab.research.google.com/github/dtd08/Empty/blob/main/School%20Classes%20-%20Information%20(Python)/%ED%95%A8%EC%88%98.ipynb\" target=\"_parent\"><img src=\"https://colab.research.google.com/assets/colab-badge.svg\" alt=\"Open In Colab\"/></a>"
      ]
    },
    {
      "cell_type": "code",
      "execution_count": 9,
      "metadata": {
        "colab": {
          "base_uri": "https://localhost:8080/"
        },
        "id": "GrOa8KW8ur8d",
        "outputId": "becef9f7-2cc3-4abc-b456-d604b94efcb0"
      },
      "outputs": [
        {
          "output_type": "stream",
          "name": "stdout",
          "text": [
            "나는 이서영입니다.\n",
            "반갑습니다.\n",
            "나는 이서영입니다.\n",
            "반갑습니다.\n",
            "=====함수 2개=====\n",
            "나는 이서영입니다.\n",
            "반갑습니다.\n",
            "나는 홍길동입니다.\n",
            "반갑습니다.\n",
            "=====함수 1개=====\n",
            "나는 이서영입니다.\n",
            "반갑습니다.\n",
            "나는 홍길동입니다.\n",
            "반갑습니다.\n",
            "==========\n",
            "나는 이서영입니다.\n",
            "나는 17살 입니다.\n",
            "반갑습니다.\n",
            "나는 이서영입니다.\n",
            "나는 17살 입니다.\n",
            "반갑습니다.\n"
          ]
        }
      ],
      "source": [
        "# 함수(기능)\n",
        "# 파이썬에서 함수는 def로 선언함\n",
        "# 구조 : def 이름() :\n",
        "# 이름을 쓸때 _로 띄어쓰기를 구분해도 되고, 띄어쓰기 대신 띄어쓰기 다음 글자를 대문자로 표기해도 됨\n",
        "# ex) print_my_name --> 스네이크식 표기,  printMyName --> 카멜식 표기\n",
        "\n",
        "\n",
        "# 함수 만들기 (역할만 지정)\n",
        "def print_my_name():\n",
        "  # 자동 들여쓰기\n",
        "  print(\"나는 이서영입니다.\")\n",
        "  print(\"반갑습니다.\")\n",
        "\n",
        "# 함수 호출 (기능 사용하기)\n",
        "print_my_name()\n",
        "print_my_name()\n",
        "# 함수를 사용함으로써 기능을 분리할 수 있게 되고 재사용성이 높아짐\n",
        "\n",
        "'''\n",
        "# 반복문에서도 사용 가능\n",
        "for i in range(10):\n",
        "  print_my_name()\n",
        "'''\n",
        "\n",
        "# 새로운 함수 작성\n",
        "# 위의 함수와 이름 부분만 다름 == 비효율적\n",
        "def print_your_name():\n",
        "  print(\"나는 홍길동입니다.\")\n",
        "  print(\"반갑습니다.\")\n",
        "\n",
        "# 다른 부분을 변수로 빼고 공통된 부분은 함수로 작성\n",
        "# () 안에 매개변수(파라미터, 인자) --> ()안에 변수의 정보를 전달해야함\n",
        "# print_name() -> X       print_name(\"이서영\") -> O\n",
        "def print_name(name):\n",
        "  print(f\"나는 {name}입니다.\")\n",
        "  print(\"반갑습니다.\")\n",
        "\n",
        "print(\"=====함수 2개=====\")\n",
        "print_my_name()\n",
        "print_your_name()\n",
        "print(\"=====함수 1개=====\")\n",
        "print_name(\"이서영\")\n",
        "print_name(\"홍길동\")\n",
        "\n",
        "def hello():\n",
        "  print(\"반갑습니다.\")\n",
        "\n",
        "def print_name_and_age(name, age):\n",
        "  print(f\"나는 {name}입니다.\")\n",
        "  print(f\"나는 {age}살 입니다.\") \n",
        "  hello() # 함수 안에 함수 쓰기\n",
        "\n",
        "print(\"==========\")\n",
        "print_name_and_age(\"이서영\",17)\n",
        "# 매개변수의 이름을 지정해서 넣어주면 순서가 상관없음\n",
        "print_name_and_age(age = 17, name = \"이서영\")\n",
        "\n"
      ]
    },
    {
      "cell_type": "code",
      "source": [
        "# 더하기 기능 sum\n",
        "def sum(a, b):\n",
        "  result = a + b # 더하기 수행\n",
        "  return result # 더한 값을 돌려줌 (이거 남겨주고 가)\n",
        "\n",
        "res = sum(1,2) # --> res = 3(result 값)\n",
        "# print(result) // Error! result는 sum함수에서만 쓰는 변수임\n",
        "print(res)\n",
        "\n",
        "# 위 함수 줄이기\n",
        "def sum(a, b):\n",
        "  return a+b  # 결과를 돌려주는거지 출력문 같은걸 돌려주진 않음\n",
        "print(sum(1,2))\n"
      ],
      "metadata": {
        "colab": {
          "base_uri": "https://localhost:8080/"
        },
        "id": "KMTDnnMY7toL",
        "outputId": "88812439-0a52-4c22-b6c7-e3b68fffb089"
      },
      "execution_count": 12,
      "outputs": [
        {
          "output_type": "stream",
          "name": "stdout",
          "text": [
            "3\n"
          ]
        }
      ]
    }
  ]
}