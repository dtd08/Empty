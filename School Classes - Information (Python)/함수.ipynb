{
  "nbformat": 4,
  "nbformat_minor": 0,
  "metadata": {
    "colab": {
      "provenance": [],
      "authorship_tag": "ABX9TyMdwFBCc3Fek7T5OqAtmGCN",
      "include_colab_link": true
    },
    "kernelspec": {
      "name": "python3",
      "display_name": "Python 3"
    },
    "language_info": {
      "name": "python"
    }
  },
  "cells": [
    {
      "cell_type": "markdown",
      "metadata": {
        "id": "view-in-github",
        "colab_type": "text"
      },
      "source": [
        "<a href=\"https://colab.research.google.com/github/dtd08/Empty/blob/main/School%20Classes%20-%20Information%20(Python)/%ED%95%A8%EC%88%98.ipynb\" target=\"_parent\"><img src=\"https://colab.research.google.com/assets/colab-badge.svg\" alt=\"Open In Colab\"/></a>"
      ]
    },
    {
      "cell_type": "code",
      "execution_count": null,
      "metadata": {
        "colab": {
          "base_uri": "https://localhost:8080/"
        },
        "id": "GrOa8KW8ur8d",
        "outputId": "becef9f7-2cc3-4abc-b456-d604b94efcb0"
      },
      "outputs": [
        {
          "output_type": "stream",
          "name": "stdout",
          "text": [
            "나는 이서영입니다.\n",
            "반갑습니다.\n",
            "나는 이서영입니다.\n",
            "반갑습니다.\n",
            "=====함수 2개=====\n",
            "나는 이서영입니다.\n",
            "반갑습니다.\n",
            "나는 홍길동입니다.\n",
            "반갑습니다.\n",
            "=====함수 1개=====\n",
            "나는 이서영입니다.\n",
            "반갑습니다.\n",
            "나는 홍길동입니다.\n",
            "반갑습니다.\n",
            "==========\n",
            "나는 이서영입니다.\n",
            "나는 17살 입니다.\n",
            "반갑습니다.\n",
            "나는 이서영입니다.\n",
            "나는 17살 입니다.\n",
            "반갑습니다.\n"
          ]
        }
      ],
      "source": [
        "# 함수(기능)\n",
        "# 사용자의 입력을 받아 내부에서 가공해서 결과를 반환해주는걸 함수라고 한다.\n",
        "# 다시 말해, 함수란 기능덩어리이다.\n",
        "# 파이썬에서 함수는 def로 선언함\n",
        "# 구조 : def 이름() :\n",
        "# 이름을 쓸때 _로 띄어쓰기를 구분해도 되고, 띄어쓰기 대신 띄어쓰기 다음 글자를 대문자로 표기해도 됨\n",
        "# ex) print_my_name --> 스네이크식 표기,  printMyName --> 카멜식 표기\n",
        "\n",
        "\n",
        "# 함수 만들기 (역할만 지정)\n",
        "def print_my_name():\n",
        "  # 자동 들여쓰기\n",
        "  print(\"나는 이서영입니다.\")\n",
        "  print(\"반갑습니다.\")\n",
        "\n",
        "# 함수 호출 (기능 사용하기)\n",
        "print_my_name()\n",
        "print_my_name()\n",
        "# 함수를 사용함으로써 기능을 분리할 수 있게 되고 재사용성이 높아짐\n",
        "\n",
        "'''\n",
        "# 반복문에서도 사용 가능\n",
        "for i in range(10):\n",
        "  print_my_name()\n",
        "'''\n",
        "\n",
        "# 새로운 함수 작성\n",
        "# 위의 함수와 이름 부분만 다름 == 비효율적\n",
        "def print_your_name():\n",
        "  print(\"나는 홍길동입니다.\")\n",
        "  print(\"반갑습니다.\")\n",
        "\n",
        "# 다른 부분을 변수로 빼고 공통된 부분은 함수로 작성\n",
        "# () 안에 매개변수(파라미터, 인자) --> ()안에 변수의 정보를 전달해야함\n",
        "# print_name() -> X       print_name(\"이서영\") -> O\n",
        "def print_name(name):\n",
        "  print(f\"나는 {name}입니다.\")\n",
        "  print(\"반갑습니다.\")\n",
        "\n",
        "print(\"=====함수 2개=====\")\n",
        "print_my_name()\n",
        "print_your_name()\n",
        "print(\"=====함수 1개=====\")\n",
        "print_name(\"이서영\")\n",
        "print_name(\"홍길동\")\n",
        "\n",
        "def hello():\n",
        "  print(\"반갑습니다.\")\n",
        "\n",
        "def print_name_and_age(name, age):\n",
        "  print(f\"나는 {name}입니다.\")\n",
        "  print(f\"나는 {age}살 입니다.\") \n",
        "  hello() # 함수 안에 함수 쓰기\n",
        "\n",
        "print(\"==========\")\n",
        "print_name_and_age(\"이서영\",17)\n",
        "# 매개변수의 이름을 지정해서 넣어주면 순서가 상관없음\n",
        "print_name_and_age(age = 17, name = \"이서영\")\n",
        "\n",
        "# 함수없이 쓰면 작업이 몇번 반복하지 않으면 괜찮겠지만 만약에 작업의 반복횟수가 많고 중간에 수정해야한다면? -> 실행과 수정이 어려움 --> 함수를 쓰면 관리가 쉬움. 때문에 함수를 쓰는 것임"
      ]
    },
    {
      "cell_type": "code",
      "source": [
        "# 더하기 기능 sum\n",
        "def sum(a, b):\n",
        "  result = a + b # 더하기 수행\n",
        "  return result # 더한 값을 돌려줌 (이거 남겨주고 가)\n",
        "\n",
        "res = sum(1,2) # --> res = 3(result 값)\n",
        "# print(result) // Error! result는 sum함수에서만 쓰는 변수임\n",
        "print(res)\n",
        "\n",
        "# 위에 함수 줄이기\n",
        "def sum(a, b):\n",
        "  return a+b  # 결과를 돌려주는거지 출력문 같은걸 돌려주진 않음\n",
        "print(sum(1,2))\n"
      ],
      "metadata": {
        "colab": {
          "base_uri": "https://localhost:8080/"
        },
        "id": "KMTDnnMY7toL",
        "outputId": "88812439-0a52-4c22-b6c7-e3b68fffb089"
      },
      "execution_count": null,
      "outputs": [
        {
          "output_type": "stream",
          "name": "stdout",
          "text": [
            "3\n"
          ]
        }
      ]
    },
    {
      "cell_type": "code",
      "source": [
        "# 수행 다음주 (5월 둘째주)\n",
        "# 논술 - 푸는문제(진법변환 등등)\n",
        "# 다음주에 설명해보고 애매하면 셋째주에 시험, 되면 둘째주 목요일 시험\n",
        "\n",
        "# max_value의 인자값( () 안에 있는 list)은 실행대상을 전달 받는 것임 ==> 전달하는 변수와 이름이 달라도 상관없음\n",
        "def find_max(list):\n",
        "  # 배열에서 최대값 찾기\n",
        "  # 우리는 직관적으로 알 수 있지만 컴퓨터는 하나하나 비교해야함\n",
        "  # 비교 --> 리스트의 첫째칸부터 뒤에 칸과 차례대로 비교함\n",
        "  max = -1 # 첫번째 값으로 어떤 양수가 들어와도 최대값으로 담길 수 있음\n",
        "  for i in list:\n",
        "    # 현재 i값이 최대값인가?\n",
        "    if max < i:\n",
        "      max = i\n",
        "  # return -> 돌려주다 -> 함수가 종료되고 값을 남기고 떠남\n",
        "  return max\n",
        "\n",
        "def find_min(list):\n",
        "  min = 999\n",
        "  for i in list:\n",
        "    if min > i:\n",
        "      min = i\n",
        "  return min\n",
        "\n",
        "def find_mid(list):\n",
        "  # 중간값 찾기\n",
        "  # 중간값이 두 개면 더 큰수로 구한다.\n",
        "  # 방법 1\n",
        "  #: 리스트 정렬 후 (리스트 길이 / 2)번째 값 출력\n",
        "  # 방법 2\n",
        "  #: 값 하나를 비교 -> 비교하는 값이 비교되는 값보다 크면 계속 비교 -> 만약 비교횟수가 (리스트 길이 / 2)면 그 값 출력\n",
        "  temp = 0\n",
        "  mid = 0\n",
        "  for i in range(1, len(list)): # 1 ~ 5까지 반복\n",
        "    if list[i-1] > list[i]:\n",
        "      temp = list[i-1]\n",
        "      list[i-1] = list[i]\n",
        "      list[i] = temp\n",
        "  mid = list[int(len(list)/2)]\n",
        "  return mid\n",
        "\n",
        "def find_value(list, type):\n",
        "  val = 0\n",
        "  # 만약 최대값 모드이고 i가 클때 -> 값을 변경\n",
        "  # 만약 최소값 모드이고 i가 작을때 -> 값을 변경\n",
        "  if type == \"max\": # 최대값 모드\n",
        "    val = -1\n",
        "  else : # 최소값 모드\n",
        "    val = 100\n",
        "  \n",
        "  for i in list:\n",
        "      if (type == \"max\" and val < i) or (type == \"min\" and val > i):\n",
        "        val = i\n",
        "  return val\n",
        "\n",
        "list = [4,5,1,7,8,2]\n",
        "list2 = [44,52,63,22,68,93,70,81]\n",
        "\n",
        "max1 = find_max(list)\n",
        "max2 = find_max(list2)\n",
        "\n",
        "min1 = find_min(list)\n",
        "min2 = find_min(list2)\n",
        "\n",
        "mid1 = find_mid(list)\n",
        "\n",
        "find_value1 = find_value(list, \"max\")\n",
        "# 이렇게 명시할 수 있음\n",
        "find_value2 = find_value(type= \"min\", list= list2)\n",
        "\n",
        "# 함수 안에서 선언한 것은 return 없이 밖으로 내보낼 수 없다\n",
        "# print(val) ==> 오류!\n",
        "print(max1, max2, min1, min2, mid1, find_value1, find_value2)\n"
      ],
      "metadata": {
        "id": "2yOHBBf1PZXx",
        "colab": {
          "base_uri": "https://localhost:8080/"
        },
        "outputId": "aad77208-53a7-470a-f4ae-ba4721a3af16"
      },
      "execution_count": null,
      "outputs": [
        {
          "output_type": "stream",
          "name": "stdout",
          "text": [
            "8 93 1 22 7 8 22\n"
          ]
        }
      ]
    },
    {
      "cell_type": "code",
      "source": [
        "# 함수의 복잡한 작업 해결하기\n",
        "# fibo수열 : 앞뒤 숫자를 더하면 다음 숫자가 나오는 수 배열\n",
        "# f(1) || f(2) == 1\n",
        "# f(n) = f(n-1) + f(n-2)\n",
        "# 재귀함수 (본인 안에서 본인을 재호출하는 것)\n",
        "\n",
        "def fibo(n):\n",
        "  if n == 1 or n == 2:\n",
        "    return 1\n",
        "  else:\n",
        "    return fibo(n-1) + fibo(n-2)\n",
        "\n",
        "print(fibo(7))"
      ],
      "metadata": {
        "colab": {
          "base_uri": "https://localhost:8080/"
        },
        "id": "oPUZsPPX3xbp",
        "outputId": "65ef15fc-aa07-4cd1-9bb5-281946781b9b"
      },
      "execution_count": null,
      "outputs": [
        {
          "output_type": "stream",
          "name": "stdout",
          "text": [
            "13\n"
          ]
        }
      ]
    },
    {
      "cell_type": "markdown",
      "source": [
        "**정보수행**\n",
        "\n",
        "유니코드 : 통합 문자체계\n",
        "\n",
        "유니코드의 특징 2가지 이상\n",
        "\n",
        "QR코드의 특징 2가지 이상\n",
        "\n",
        "\n",
        "유니코드란\n",
        "- 국제 표준 문자표\n",
        "- 세계 모든 언어와 기호에 코드값을 부여한 것.\n",
        "이를 통해 모든 문자를 일관되게 처리할 수 있음\n",
        "- 하나의 문자를 표현하는데 1~4byte를 사용하고, 가변 길이 인코딩 방식이라고 함\n",
        "- 인코딩 방식으로 UTF-8, UTF-16, EUC-KR 등이 있으며, 다양한 시스템에서 문자를 교환하고 저장할 수 있음\n",
        "\n",
        "* UTF-8\n",
        " : 8비트 단위로 가변 인코딩\n",
        "   유니코드의 시작 바이트를 보고 몇 바이트를 읽을것인지 결정하기로 약속함\n",
        "\n",
        "   - 0xxxxxxx -> 첫번째 바이트가 0으로 시작한다면 0 이외의 7비트를 ASCII로 인식함\n",
        "   - 110xxxxx 10xxxxxx -> 두번째 바이트까지 읽어서 하나의 문자로 표현\n",
        "   - 1110xxxx 10xxxxxx 10xxxxxx -> 세 번째 ~~      \n",
        "   - 11110xxx 10xxxxxx 10xxxxxx 10xxxxxx -> 네 번째 ~~   \n",
        "* EUC-KR\n",
        " : 한글을 표현하기 위해 2byte(16bit)로 사용\n",
        "\n",
        "\n",
        "QR코드란\n",
        "- 컴퓨터가 만든 흑백 격자무늬 패턴 코드\n",
        "- 정보를 나타내는 매트릭스 형식의 이차원 코드\n",
        "\n",
        "- 일반 바코드와 QR코드의 차이\n",
        "\n",
        " □ 일반 바코드\n",
        "  - 단방향 즉, 1차원 형태이다\n",
        "  - 숫자나 문자 정보가 저장된다\n",
        "\n",
        " □ QR코드\n",
        "  - 종횡으로 2차원 형태를 가진다\n",
        "  - 사진, 동영상, 지도, 명함 등 다양한 정보를 더 편리하게 담아낼 수 있다\n",
        "\n",
        "- 버전1부터 버전40까지 버전마다 최대로 포함할 수 있는 정보와 크기가 다름\n",
        "- 영역 구분\n",
        " - 콰이어트 존\n",
        " - 위치 검출 패턴(분리자 포함)\n",
        " - 타이밍 패턴\n",
        " - 정렬 패턴\n",
        " - 포맷 정보\n",
        " - 버전 정보\n",
        " - 데이터 영역(에러 정정 코드 영역 포함) 등\n",
        "- 숫자 : 최대 7089 자\n",
        "- 영문자와 한글 : 최대 4296 자\n",
        "- 한자 : 1817 자\n",
        "- 8비트 바이트 : 최대 2953 바이트"
      ],
      "metadata": {
        "id": "edjhxThx10Hw"
      }
    }
  ]
}